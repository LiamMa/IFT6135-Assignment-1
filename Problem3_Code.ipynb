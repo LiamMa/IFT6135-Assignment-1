{
  "nbformat": 4,
  "nbformat_minor": 0,
  "metadata": {
    "colab": {
      "name": "A1_3_Jin.ipynb",
      "version": "0.3.2",
      "provenance": [],
      "collapsed_sections": [],
      "toc_visible": true,
      "include_colab_link": true
    },
    "kernelspec": {
      "name": "python3",
      "display_name": "Python 3"
    },
    "accelerator": "GPU"
  },
  "cells": [
    {
      "cell_type": "markdown",
      "metadata": {
        "id": "view-in-github",
        "colab_type": "text"
      },
      "source": [
        "<a href=\"https://colab.research.google.com/github/djdongjin/IFT6135-Assignment/blob/master/A13_submitted_version.ipynb\" target=\"_parent\"><img src=\"https://colab.research.google.com/assets/colab-badge.svg\" alt=\"Open In Colab\"/></a>"
      ]
    },
    {
      "metadata": {
        "id": "1eGIV7SLuBhP",
        "colab_type": "text"
      },
      "cell_type": "markdown",
      "source": [
        "# Problem 3\n",
        "\n",
        "**Team member** (alphabetical order): Jin Dong, Liheng Ma, Maximilien Le Clei.\n",
        "\n",
        "Github Link: https://github.com/djdongjin/IFT6135-Assignment.\n",
        "\n",
        "## Environment Setting and Data Preprocessing\n",
        "\n",
        "To reproduce the result, please put the dataset into a folder of google drive whose path is saved in *data_path*,  in our case, data_path = '/content/gdrive/My\\ Drive/Datasets/dogcat'"
      ]
    },
    {
      "metadata": {
        "id": "W9Scb4r5XYt3",
        "colab_type": "code",
        "outputId": "e635f6a9-c2d4-4d9b-cf6d-fad6c015b50f",
        "colab": {
          "base_uri": "https://localhost:8080/",
          "height": 815
        }
      },
      "cell_type": "code",
      "source": [
        "! nvidia-smi\n",
        "! pip install mxnet-cu100"
      ],
      "execution_count": 0,
      "outputs": [
        {
          "output_type": "stream",
          "text": [
            "Thu Feb 14 01:11:42 2019       \n",
            "+-----------------------------------------------------------------------------+\n",
            "| NVIDIA-SMI 410.79       Driver Version: 410.79       CUDA Version: 10.0     |\n",
            "|-------------------------------+----------------------+----------------------+\n",
            "| GPU  Name        Persistence-M| Bus-Id        Disp.A | Volatile Uncorr. ECC |\n",
            "| Fan  Temp  Perf  Pwr:Usage/Cap|         Memory-Usage | GPU-Util  Compute M. |\n",
            "|===============================+======================+======================|\n",
            "|   0  Tesla K80           Off  | 00000000:00:04.0 Off |                    0 |\n",
            "| N/A   36C    P0    57W / 149W |      0MiB / 11441MiB |      0%      Default |\n",
            "+-------------------------------+----------------------+----------------------+\n",
            "                                                                               \n",
            "+-----------------------------------------------------------------------------+\n",
            "| Processes:                                                       GPU Memory |\n",
            "|  GPU       PID   Type   Process name                             Usage      |\n",
            "|=============================================================================|\n",
            "|  No running processes found                                                 |\n",
            "+-----------------------------------------------------------------------------+\n",
            "Collecting mxnet-cu100\n",
            "\u001b[?25l  Downloading https://files.pythonhosted.org/packages/99/d3/480e26ca6f0294ce268622834499f1efd82bebbf7ada9ec6ed4a67c6c890/mxnet_cu100-1.3.1-py2.py3-none-manylinux1_x86_64.whl (432.6MB)\n",
            "\u001b[K    100% |████████████████████████████████| 432.6MB 36kB/s \n",
            "\u001b[?25hRequirement already satisfied: numpy<1.15.0,>=1.8.2 in /usr/local/lib/python3.6/dist-packages (from mxnet-cu100) (1.14.6)\n",
            "Collecting requests>=2.20.0 (from mxnet-cu100)\n",
            "\u001b[?25l  Downloading https://files.pythonhosted.org/packages/7d/e3/20f3d364d6c8e5d2353c72a67778eb189176f08e873c9900e10c0287b84b/requests-2.21.0-py2.py3-none-any.whl (57kB)\n",
            "\u001b[K    100% |████████████████████████████████| 61kB 22.9MB/s \n",
            "\u001b[?25hCollecting graphviz<0.9.0,>=0.8.1 (from mxnet-cu100)\n",
            "  Downloading https://files.pythonhosted.org/packages/53/39/4ab213673844e0c004bed8a0781a0721a3f6bb23eb8854ee75c236428892/graphviz-0.8.4-py2.py3-none-any.whl\n",
            "Requirement already satisfied: certifi>=2017.4.17 in /usr/local/lib/python3.6/dist-packages (from requests>=2.20.0->mxnet-cu100) (2018.11.29)\n",
            "Requirement already satisfied: idna<2.9,>=2.5 in /usr/local/lib/python3.6/dist-packages (from requests>=2.20.0->mxnet-cu100) (2.6)\n",
            "Requirement already satisfied: urllib3<1.25,>=1.21.1 in /usr/local/lib/python3.6/dist-packages (from requests>=2.20.0->mxnet-cu100) (1.22)\n",
            "Requirement already satisfied: chardet<3.1.0,>=3.0.2 in /usr/local/lib/python3.6/dist-packages (from requests>=2.20.0->mxnet-cu100) (3.0.4)\n",
            "\u001b[31mspacy 2.0.18 has requirement numpy>=1.15.0, but you'll have numpy 1.14.6 which is incompatible.\u001b[0m\n",
            "\u001b[31mgoogle-colab 0.0.1a1 has requirement requests~=2.18.0, but you'll have requests 2.21.0 which is incompatible.\u001b[0m\n",
            "Installing collected packages: requests, graphviz, mxnet-cu100\n",
            "  Found existing installation: requests 2.18.4\n",
            "    Uninstalling requests-2.18.4:\n",
            "      Successfully uninstalled requests-2.18.4\n",
            "  Found existing installation: graphviz 0.10.1\n",
            "    Uninstalling graphviz-0.10.1:\n",
            "      Successfully uninstalled graphviz-0.10.1\n",
            "Successfully installed graphviz-0.8.4 mxnet-cu100-1.3.1 requests-2.21.0\n"
          ],
          "name": "stdout"
        },
        {
          "output_type": "display_data",
          "data": {
            "application/vnd.colab-display-data+json": {
              "pip_warning": {
                "packages": [
                  "requests"
                ]
              }
            }
          },
          "metadata": {
            "tags": []
          }
        }
      ]
    },
    {
      "metadata": {
        "id": "z7yPuUVEwMGd",
        "colab_type": "code",
        "colab": {}
      },
      "cell_type": "code",
      "source": [
        "import mxnet as mx\n",
        "from mxnet import autograd, nd, init, gluon\n",
        "from mxnet.gluon import nn, loss as gloss, data as gdata\n",
        "\n",
        "import os\n",
        "import shutil\n",
        "import time\n",
        "import numpy as np\n",
        "import pandas as pd\n",
        "import matplotlib.pyplot as plt\n",
        "import random\n",
        "import zipfile"
      ],
      "execution_count": 0,
      "outputs": []
    },
    {
      "metadata": {
        "id": "OQTNJuotEurB",
        "colab_type": "text"
      },
      "cell_type": "markdown",
      "source": [
        "We load the dataset and move files into the virtual machine environment of colab\n",
        " to speed up image loading."
      ]
    },
    {
      "metadata": {
        "id": "vk9K9HmXjiFm",
        "colab_type": "code",
        "outputId": "e970c9d5-83f5-4dc9-97ee-f53b033dc01f",
        "colab": {
          "base_uri": "https://localhost:8080/",
          "height": 158
        }
      },
      "cell_type": "code",
      "source": [
        "from google.colab import drive\n",
        "drive.mount('/content/gdrive')\n",
        "\n",
        "data_path = '/content/gdrive/My\\ Drive/Datasets/dogcat'\n",
        "base_path = '/content/dogcat'\n",
        "\n",
        "! rm -rf '/content/dogcat'\n",
        "! cp -r $data_path /content\n",
        "\n",
        "for f in ['trainset.zip', 'testset.zip']:\n",
        "    with zipfile.ZipFile(os.path.join(base_path, f)) as z:\n",
        "        z.extractall(base_path)\n",
        "        \n",
        "! rm -rf /content/dogcat/__MACOSX\n",
        "! ls /content/dogcat"
      ],
      "execution_count": 0,
      "outputs": [
        {
          "output_type": "stream",
          "text": [
            "Go to this URL in a browser: https://accounts.google.com/o/oauth2/auth?client_id=947318989803-6bn6qk8qdgf4n4g3pfee6491hc0brc4i.apps.googleusercontent.com&redirect_uri=urn%3Aietf%3Awg%3Aoauth%3A2.0%3Aoob&scope=email%20https%3A%2F%2Fwww.googleapis.com%2Fauth%2Fdocs.test%20https%3A%2F%2Fwww.googleapis.com%2Fauth%2Fdrive%20https%3A%2F%2Fwww.googleapis.com%2Fauth%2Fdrive.photos.readonly%20https%3A%2F%2Fwww.googleapis.com%2Fauth%2Fpeopleapi.readonly&response_type=code\n",
            "\n",
            "Enter your authorization code:\n",
            "··········\n",
            "Mounted at /content/gdrive\n",
            "sample_submission.csv  submission.csv  testset.zip  trainset.zip\n",
            "state_dict.pickle      testset\t       trainset\n"
          ],
          "name": "stdout"
        }
      ]
    },
    {
      "metadata": {
        "id": "uVDMOat-E4p4",
        "colab_type": "text"
      },
      "cell_type": "markdown",
      "source": [
        "We divided the dataset into four folders:\n",
        "\n",
        "- trainset: the original training dataset which will be used to re-train the final model after parameter tuning.\n",
        "- testset: the original test dataset used to generate predictions.\n",
        "- train, valid: the training dataset and validation dataset used to train and select hyperparameters. They are splitted from trainset as a split ratio."
      ]
    },
    {
      "metadata": {
        "id": "H_4IhW_6w69l",
        "colab_type": "code",
        "outputId": "4cba7d22-314f-44b7-9010-5ce8eecbe960",
        "colab": {
          "base_uri": "https://localhost:8080/",
          "height": 121
        }
      },
      "cell_type": "code",
      "source": [
        "train_valid_path = 'trainset'\n",
        "test_path = 'testset'\n",
        "train_path = 'train'\n",
        "valid_path = 'valid'\n",
        "\n",
        "\n",
        "def delete_dir(path):\n",
        "    if os.path.exists(os.path.join(*path)):\n",
        "        shutil.rmtree(os.path.join(*path))\n",
        "        \n",
        "def create_dir(path):\n",
        "    if not os.path.exists(os.path.join(*path)):\n",
        "        os.makedirs(os.path.join(*path))\n",
        "\n",
        "def devide_train_valid(base_path, train_valid_path, train_path, valid_path,\n",
        "                       valid_ratio=0.2, labels=['Dog', 'Cat']):\n",
        "    delete_dir([base_path, train_path])\n",
        "    delete_dir([base_path, valid_path])\n",
        "        \n",
        "    all_files_by_label = [os.listdir(os.path.join(base_path, train_valid_path, label))\n",
        "                          for label in labels]\n",
        "    \n",
        "    count_train = {label:0 for label in labels}\n",
        "    count_valid = {label:0 for label in labels}\n",
        "    \n",
        "    for label, file_per_label in zip(labels, all_files_by_label):\n",
        "        print('Train&Valid set, %s: %s' % (label, len(file_per_label)))\n",
        "        create_dir([base_path, train_path, label])\n",
        "        create_dir([base_path, valid_path, label])\n",
        "        for f in file_per_label:\n",
        "            if count_train[label] < len(file_per_label) * (1 - valid_ratio):\n",
        "                shutil.copy(os.path.join(base_path, train_valid_path, label, f),\n",
        "                            os.path.join(base_path, train_path, label, f))\n",
        "                count_train[label] += 1\n",
        "            else:\n",
        "                shutil.copy(os.path.join(base_path, train_valid_path, label, f),\n",
        "                            os.path.join(base_path, valid_path, label, f))\n",
        "                count_valid[label] += 1\n",
        "        print('Train set, %s: %s' % (label, count_train[label]))\n",
        "        print('Valid set, %s: %s' % (label, count_valid[label]))\n",
        "                \n",
        "devide_train_valid(base_path, train_valid_path, train_path, valid_path)"
      ],
      "execution_count": 0,
      "outputs": [
        {
          "output_type": "stream",
          "text": [
            "Train&Valid set, Dog: 9999\n",
            "Train set, Dog: 8000\n",
            "Valid set, Dog: 1999\n",
            "Train&Valid set, Cat: 9999\n",
            "Train set, Cat: 8000\n",
            "Valid set, Cat: 1999\n"
          ],
          "name": "stdout"
        }
      ]
    },
    {
      "metadata": {
        "id": "bF8LAVpLFscM",
        "colab_type": "text"
      },
      "cell_type": "markdown",
      "source": [
        "We defined four data iterators as below, given a batch size. We also have different data augmentation pipelines for train dataset and test dataset, since test dataset should keep unchanged."
      ]
    },
    {
      "metadata": {
        "id": "SsDH1T9pwG3B",
        "colab_type": "code",
        "outputId": "4d46b7a6-5cab-4dea-e5cf-1e436a399a7a",
        "colab": {
          "base_uri": "https://localhost:8080/",
          "height": 52
        }
      },
      "cell_type": "code",
      "source": [
        "train_data = gdata.vision.ImageFolderDataset(\n",
        "    os.path.join(base_path, train_path), flag=1)\n",
        "valid_data = gdata.vision.ImageFolderDataset(\n",
        "    os.path.join(base_path, valid_path), flag=1)\n",
        "train_valid_data = gdata.vision.ImageFolderDataset(\n",
        "    os.path.join(base_path, train_valid_path), flag=1)\n",
        "test_data = gdata.vision.ImageFolderDataset(\n",
        "    os.path.join(base_path, test_path), flag=1)\n",
        "\n",
        "aug_train = gdata.vision.transforms.Compose([\n",
        "    gdata.vision.transforms.RandomResizedCrop(64, scale=(0.75, 1),\n",
        "                                               ratio=(3.0/4.0, 4.0/3.0)),\n",
        "        gdata.vision.transforms.RandomFlipLeftRight(),\n",
        "    gdata.vision.transforms.RandomColorJitter(brightness=0.4, \n",
        "                                              contrast=0.4, saturation=0.4),\n",
        "    gdata.vision.transforms.RandomLighting(0.1),\n",
        "    gdata.vision.transforms.ToTensor(),\n",
        "#     gdata.vision.transforms.Normalize([0.485, 0.456, 0.406], \n",
        "#                                       [0.229, 0.224, 0.225])\n",
        "])\n",
        "\n",
        "aug_test = gdata.vision.transforms.Compose([\n",
        "    gdata.vision.transforms.ToTensor(),\n",
        "#     gdata.vision.transforms.Normalize([0.485, 0.456, 0.406], \n",
        "#                                       [0.229, 0.224, 0.225])\n",
        "])\n",
        "    \n",
        "def load_data_iter(batch_size):\n",
        "\n",
        "    train_iter = gdata.DataLoader(train_data.transform_first(aug_train), batch_size,\n",
        "                                  shuffle=True, last_batch='keep')\n",
        "    valid_iter = gdata.DataLoader(valid_data.transform_first(aug_test), batch_size,\n",
        "                                  shuffle=False, last_batch='keep')\n",
        "    train_valid_iter = gdata.DataLoader(train_valid_data.transform_first(aug_train), batch_size,\n",
        "                                  shuffle=True, last_batch='keep')\n",
        "    test_iter  = gdata.DataLoader(test_data.transform_first(aug_test), batch_size,\n",
        "                                  shuffle=False, last_batch='keep')\n",
        "    \n",
        "    return train_iter, valid_iter, train_valid_iter, test_iter"
      ],
      "execution_count": 0,
      "outputs": [
        {
          "output_type": "stream",
          "text": [
            "/usr/local/lib/python3.6/dist-packages/ipykernel_launcher.py:6: UserWarning: Ignoring /content/dogcat/trainset/.DS_Store, which is not a directory.\n",
            "  \n"
          ],
          "name": "stderr"
        }
      ]
    },
    {
      "metadata": {
        "id": "Vk6fUe-Tn0lI",
        "colab_type": "text"
      },
      "cell_type": "markdown",
      "source": [
        "## 1. Model Architecture\n",
        "\n",
        "Our model is based on VGG-11 with some modifications, since it is designed for ImageNet with size of 224x224, but our data size is 64x64. We deleted the last vgg block because too many pooling layers are included which reduced the image size to 2x2. Instead, we add an extra convolutional layer in the second vgg blocks to maintain the number of convolutional layers.\n",
        "\n",
        "The final archtecture and corresponding hyperparameters (e.g. kernel size, padding) we used is as below. It includes four vgg blocks, each of which has one or two convolutional layers followed by a MaxPooling layer. At the end, we added three dense layers to produce the final results.\n",
        "\n",
        "The number of parameters is: $32*3*3 + 64*3*3*2 + 128*3*3*2 + 256*3*3*2 + 4097*1024 + 1025*512 + 513*2=4729506$.\n",
        "\n",
        "We also tried using larger dense layers (2048, 1024 for each hidden layer), but didn't get improvements on validation performance."
      ]
    },
    {
      "metadata": {
        "id": "FX-Ug8P2zXEO",
        "colab_type": "code",
        "outputId": "47989117-ec40-4c8a-8174-44ed61cc937b",
        "colab": {
          "base_uri": "https://localhost:8080/",
          "height": 570
        }
      },
      "cell_type": "code",
      "source": [
        "# vgg11"
      ],
      "execution_count": 0,
      "outputs": [
        {
          "output_type": "execute_result",
          "data": {
            "text/plain": [
              "Sequential(\n",
              "  (0): VGGBlock(\n",
              "    (net): Sequential(\n",
              "      (0): Conv2D(3 -> 32, kernel_size=(3, 3), stride=(1, 1), padding=(1, 1))\n",
              "      (1): MaxPool2D(size=(2, 2), stride=(2, 2), padding=(0, 0), ceil_mode=False)\n",
              "    )\n",
              "  )\n",
              "  (1): VGGBlock(\n",
              "    (net): Sequential(\n",
              "      (0): Conv2D(32 -> 64, kernel_size=(3, 3), stride=(1, 1), padding=(1, 1))\n",
              "      (1): Conv2D(64 -> 64, kernel_size=(3, 3), stride=(1, 1), padding=(1, 1))\n",
              "      (2): MaxPool2D(size=(2, 2), stride=(2, 2), padding=(0, 0), ceil_mode=False)\n",
              "    )\n",
              "  )\n",
              "  (2): VGGBlock(\n",
              "    (net): Sequential(\n",
              "      (0): Conv2D(64 -> 128, kernel_size=(3, 3), stride=(1, 1), padding=(1, 1))\n",
              "      (1): Conv2D(128 -> 128, kernel_size=(3, 3), stride=(1, 1), padding=(1, 1))\n",
              "      (2): MaxPool2D(size=(2, 2), stride=(2, 2), padding=(0, 0), ceil_mode=False)\n",
              "    )\n",
              "  )\n",
              "  (3): VGGBlock(\n",
              "    (net): Sequential(\n",
              "      (0): Conv2D(128 -> 256, kernel_size=(3, 3), stride=(1, 1), padding=(1, 1))\n",
              "      (1): Conv2D(256 -> 256, kernel_size=(3, 3), stride=(1, 1), padding=(1, 1))\n",
              "      (2): MaxPool2D(size=(2, 2), stride=(2, 2), padding=(0, 0), ceil_mode=False)\n",
              "    )\n",
              "  )\n",
              "  (4): Dense(4096 -> 1024, Activation(relu))\n",
              "  (5): Dense(1024 -> 512, Activation(relu))\n",
              "  (6): Dense(512 -> 2, linear)\n",
              ")"
            ]
          },
          "metadata": {
            "tags": []
          },
          "execution_count": 13
        }
      ]
    },
    {
      "metadata": {
        "id": "fs0Vq13j8ksY",
        "colab_type": "text"
      },
      "cell_type": "markdown",
      "source": [
        "### 1.1 Building VGG"
      ]
    },
    {
      "metadata": {
        "id": "GNviaRqLO7U2",
        "colab_type": "code",
        "colab": {}
      },
      "cell_type": "code",
      "source": [
        "# VGG modified\n",
        "class VGGBlock(nn.Block):\n",
        "    def __init__(self, num_conv, num_channel, **kwargs):\n",
        "        super(VGGBlock, self).__init__(**kwargs)\n",
        "        \n",
        "        self.net = nn.Sequential()\n",
        "        for i in range(num_conv):\n",
        "            self.net.add(nn.Conv2D(num_channel, kernel_size=3, \n",
        "                              padding=1, activation='relu'))\n",
        "        self.net.add(nn.MaxPool2D(pool_size=2, strides=2))\n",
        "            \n",
        "    def forward(self, X):\n",
        "        return self.net(X)\n",
        "    \n",
        "\n",
        "def VGG(blocks):\n",
        "    net = nn.Sequential()\n",
        "    # Conv\n",
        "    for num_conv, num_channel in blocks:\n",
        "        net.add(VGGBlock(num_conv, num_channel))\n",
        "    # Dense\n",
        "    net.add(nn.Dense(1024, activation='relu'),\n",
        "             nn.Dense(512, activation='relu'),\n",
        "             nn.Dense(2))\n",
        "    return net"
      ],
      "execution_count": 0,
      "outputs": []
    },
    {
      "metadata": {
        "id": "e6eBUIHiJbC-",
        "colab_type": "text"
      },
      "cell_type": "markdown",
      "source": [
        "### 1.2 Training and Evaluation"
      ]
    },
    {
      "metadata": {
        "id": "CtjQsEcvJem-",
        "colab_type": "code",
        "colab": {}
      },
      "cell_type": "code",
      "source": [
        "loss = gloss.SoftmaxCrossEntropyLoss()\n",
        "\n",
        "def evaluate(net, test_iter, ctx):\n",
        "    acc, ls, n = 0.0, 0.0, 0\n",
        "    for X, y in test_iter:\n",
        "        X, y = X.as_in_context(ctx), y.astype('float32').as_in_context(ctx)\n",
        "        \n",
        "        y_hat = net(X)\n",
        "        ls  += loss(y_hat, y).sum().asscalar()\n",
        "        acc += (y_hat.argmax(axis=1) == y).sum().asscalar()\n",
        "        n   += y.size\n",
        "    return acc / n, ls / n\n",
        "\n",
        "\n",
        "def train(net, train_iter, valid_iter, num_epochs, batch_size, lr, ctx):\n",
        "    train_loss, valid_loss, train_accuracy, valid_accuracy = [], [], [], []\n",
        "    trainer = gluon.Trainer(net.collect_params(), 'sgd', {'learning_rate': lr})\n",
        "    \n",
        "    for i in range(1, num_epochs+1):\n",
        "        \n",
        "        train_acc, train_l, n, start = 0.0, 0.0, 0, time.time()\n",
        "        # compute train loss\n",
        "        for X, y in train_iter:\n",
        "            X, y = X.as_in_context(ctx), y.astype('float32').as_in_context(ctx)\n",
        "            \n",
        "            with autograd.record():\n",
        "                y_hat = net(X)\n",
        "                l = loss(y_hat, y).sum()\n",
        "            \n",
        "            l.backward()\n",
        "            trainer.step(batch_size)\n",
        "            train_l += l.asscalar()\n",
        "            train_acc += (y_hat.argmax(axis=1) == y).sum().asscalar()\n",
        "            n += y.size\n",
        "            \n",
        "        tm = time.time() - start\n",
        "        print('epoch %s, train loss %.4f, train acc %.4f, time %.2f' % \n",
        "             (i, train_l/n, train_acc/n, tm))\n",
        "        \n",
        "        valid_acc, valid_l = evaluate(net, valid_iter, ctx)\n",
        "        print('epoch %s, valid loss %.4f, valid acc %.4f.' % \n",
        "              (i, valid_l, valid_acc))\n",
        "        \n",
        "        train_loss.append(train_l/n)\n",
        "        valid_loss.append(valid_l)\n",
        "        train_accuracy.append(train_acc/n)\n",
        "        valid_accuracy.append(valid_acc)\n",
        "        \n",
        "    return train_loss, valid_loss, train_accuracy, valid_accuracy"
      ],
      "execution_count": 0,
      "outputs": []
    },
    {
      "metadata": {
        "id": "bBidIRYakUdU",
        "colab_type": "code",
        "colab": {}
      },
      "cell_type": "code",
      "source": [
        "def loss_acc_plot(content=[\"valid_acc\",\"train_acc\",\"valid_loss\",\"train_loss\"],\n",
        "                  valid_acc=None,train_acc=None,valid_loss=None,train_loss=None,\n",
        "                  fig_size=(15,15),\n",
        "                  savefile='/content/gdrive/My Drive/Datasets/dogcat'+\"p3_err_loss.jpg\",\n",
        "                  title=\"VGG\"):\n",
        "    \"\"\"\n",
        "    content: a list of string denotes \n",
        "    including 'valid_acc','train_acc','valid_loss','train_loss' \n",
        "    \"\"\"\n",
        "    plt.figure(figsize=fig_size)\n",
        "    acc=0\n",
        "    loss=0\n",
        "    if \"valid_acc\" in content and valid_acc!=None:\n",
        "        epochs=np.arange(np.array(valid_acc).reshape(-1).shape[0])+1\n",
        "        plt.plot(epochs,valid_acc,\"b-\",label=\"validation_acc\")\n",
        "        acc=1\n",
        "    if \"train_acc\" in content and train_acc!=None:\n",
        "        epochs=np.arange(np.array(train_acc).reshape(-1).shape[0])+1\n",
        "        plt.plot(epochs,train_acc,\"g-\",label=\"training_acc\")\n",
        "        acc=1\n",
        "    if \"valid_loss\" in content and valid_loss!=None:\n",
        "        epochs=np.arange(np.array(valid_loss).reshape(-1).shape[0])+1\n",
        "        plt.plot(epochs,valid_loss,\"b:\",label=\"validation_loss\")\n",
        "        loss=1\n",
        "    if \"train_loss\" in content and train_loss!=None:\n",
        "        epochs=np.arange(np.array(train_loss).reshape(-1).shape[0])+1\n",
        "        plt.plot(epochs,train_loss,\"g:\",label=\"training_loss\")\n",
        "        loss=1\n",
        "\n",
        "    plt.xticks(epochs)\n",
        "    plt.xlabel(\"training epochs\",fontsize=18)\n",
        "    if acc==1 and loss==1:\n",
        "        plt.ylabel(\"acc/loss\",fontsize=18)\n",
        "    elif acc==0 and loss==1:\n",
        "        plt.ylabel(\"loss\",fontsize=18)\n",
        "    elif acc==1 and loss==0:\n",
        "        plt.ylabel(\"acc\",fontsize=18)\n",
        "\n",
        "    plt.title(title,fontsize=20)\n",
        "    plt.legend(fontsize=15)\n",
        "    plt.savefig(savefile)\n",
        "    plt.show()"
      ],
      "execution_count": 0,
      "outputs": []
    },
    {
      "metadata": {
        "id": "_kl7GESNJtHa",
        "colab_type": "text"
      },
      "cell_type": "markdown",
      "source": [
        "## 2. Experiments\n",
        "\n",
        "**Dataset**\n",
        "\n",
        "We split the original training set into a training set and a validation set with a ratio of 0.8. Meanwhile, we used several data augmentation techniques to expand the dataset, including: \n",
        "\n",
        "- Random crop the image and resize to the original size: RandomResizedCrop.\n",
        "- Random flip left or right the image: RandomFlipLeftRight.\n",
        "- Random change the color properties of the image: RandomColorJitter, RandomLighting.\n",
        "\n",
        "We also tried to normalize the image but the performance didn't change too much. We also only did augmentation on training set to ensure the validation accuracy is sound.\n",
        "\n",
        "\n",
        "**Results**\n",
        "\n",
        "We finally achieved **0.8682** accuracy on training set and **0.8464** accuracy on validation set, with hyperparameter setting mentioned below. After retraining, the highest score we achieved on Kaggle is **88%**.\n",
        "\n",
        "We plot the accuracy (1-error) and loss curves  on training set and validation set. We found that the learning speed is slow. Compared with SGD, a more powerful optimizier, such as Adam, should be helpful and faster to converge to a minimum point.\n",
        "\n",
        "BatchNorm should be helpful to improve the validation performance, since it can be seen as a normalization over dataset and can let the model learn more steady.\n",
        "\n",
        "A more advanced architecture with more normalization techniques is also helpful. For example, we did experiments on ResNet. Without BatchNorm, its performance is bad. But after adding BatchNorm, it's performance on validation set exceeded our model, achieved 91%. (Since we didn't implemented BatchNorm by hand, we didn't use this model for any submission. Details can be found in appendix.)\n",
        "\n",
        "Dropout should not be very helpful because from the curve we can see that the model is not overfitted, which is the main issue that Dropout aims to solve.\n",
        "\n",
        "After tuning hyperparameters, we retrained the model useing the whole training set and generated several submissions. The model could achieve **93%** accuracy on validation set whereas on the test set, it only achieved **88%**. The reason is that when retraining, the model has more data so that its accuracy becomes higher (also, the validation set is also included in the training set when retraining). But the test set is new and never be seen by the model, so that the accuracy becomes lower again."
      ]
    },
    {
      "metadata": {
        "id": "CjWz4y73YHQH",
        "colab_type": "text"
      },
      "cell_type": "markdown",
      "source": [
        "### Generating Results\n",
        "\n",
        "The hyperparameter setting we used for submission is as below:\n",
        "\n",
        "- Epochs: 35\n",
        "- Batch size: 128\n",
        "- Learning rate: 0.1\n",
        "- Model architecture: (1, 32), (2, 64), (2, 128), (2, 256), 1024, 512, 2. ((i, j) means a vgg block where i is denoted as number of convolutional layers and j is denoted as number of channels; the last three layers are dense layers.)"
      ]
    },
    {
      "metadata": {
        "id": "cPf91G_oQ9VK",
        "colab_type": "code",
        "outputId": "6a1d4b9e-e424-44a4-edf8-997920116d98",
        "colab": {
          "base_uri": "https://localhost:8080/",
          "height": 1226
        }
      },
      "cell_type": "code",
      "source": [
        "# conv_arch = ((1, 32), (1, 64), (2, 128), (2, 256), (2, 256))\n",
        "ctx = mx.gpu()\n",
        "num_epochs, batch_size = 35, 128\n",
        "lr = 0.1\n",
        "train_iter, valid_iter, train_valid_iter, test_iter = load_data_iter(batch_size)\n",
        "conv_arch = ((1, 32), (2, 64), (2, 128), (2, 256))\n",
        "vgg11 = VGG(conv_arch)\n",
        "vgg11.initialize(init=init.Xavier(), ctx=ctx)\n",
        "train_loss, valid_loss, train_accuracy, valid_accuracy = \\\n",
        "    train(vgg11, train_iter, valid_iter, num_epochs, batch_size, lr, ctx)"
      ],
      "execution_count": 0,
      "outputs": [
        {
          "output_type": "stream",
          "text": [
            "epoch 1, train loss 0.6922, train acc 0.5153, time 20.82\n",
            "epoch 1, valid loss 0.6926, valid acc 0.5000.\n",
            "epoch 2, train loss 0.6899, train acc 0.5394, time 17.65\n",
            "epoch 2, valid loss 0.6848, valid acc 0.5550.\n",
            "epoch 3, train loss 0.6827, train acc 0.5602, time 17.67\n",
            "epoch 3, valid loss 0.6722, valid acc 0.5963.\n",
            "epoch 4, train loss 0.6779, train acc 0.5729, time 18.70\n",
            "epoch 4, valid loss 0.6609, valid acc 0.6051.\n",
            "epoch 5, train loss 0.6685, train acc 0.5920, time 19.34\n",
            "epoch 5, valid loss 0.6635, valid acc 0.5955.\n",
            "epoch 6, train loss 0.6558, train acc 0.6116, time 20.60\n",
            "epoch 6, valid loss 0.6520, valid acc 0.6256.\n",
            "epoch 7, train loss 0.6457, train acc 0.6291, time 20.77\n",
            "epoch 7, valid loss 0.6774, valid acc 0.5818.\n",
            "epoch 8, train loss 0.6313, train acc 0.6455, time 19.64\n",
            "epoch 8, valid loss 0.6221, valid acc 0.6588.\n",
            "epoch 9, train loss 0.6174, train acc 0.6579, time 19.71\n",
            "epoch 9, valid loss 0.6050, valid acc 0.6641.\n",
            "epoch 10, train loss 0.6045, train acc 0.6723, time 20.80\n",
            "epoch 10, valid loss 0.6019, valid acc 0.6663.\n",
            "epoch 11, train loss 0.5842, train acc 0.6902, time 20.87\n",
            "epoch 11, valid loss 0.5433, valid acc 0.7264.\n",
            "epoch 12, train loss 0.5718, train acc 0.6993, time 20.80\n",
            "epoch 12, valid loss 0.5403, valid acc 0.7201.\n",
            "epoch 13, train loss 0.5503, train acc 0.7183, time 20.84\n",
            "epoch 13, valid loss 0.5638, valid acc 0.7029.\n",
            "epoch 14, train loss 0.5457, train acc 0.7194, time 20.78\n",
            "epoch 14, valid loss 0.5383, valid acc 0.7309.\n",
            "epoch 15, train loss 0.5279, train acc 0.7339, time 18.79\n",
            "epoch 15, valid loss 0.4826, valid acc 0.7676.\n",
            "epoch 16, train loss 0.5089, train acc 0.7439, time 18.07\n",
            "epoch 16, valid loss 0.4829, valid acc 0.7629.\n",
            "epoch 17, train loss 0.4945, train acc 0.7551, time 18.96\n",
            "epoch 17, valid loss 0.4673, valid acc 0.7776.\n",
            "epoch 18, train loss 0.4866, train acc 0.7618, time 20.19\n",
            "epoch 18, valid loss 0.4503, valid acc 0.7869.\n",
            "epoch 19, train loss 0.4676, train acc 0.7758, time 19.21\n",
            "epoch 19, valid loss 0.4412, valid acc 0.7906.\n",
            "epoch 20, train loss 0.4552, train acc 0.7848, time 19.56\n",
            "epoch 20, valid loss 0.4478, valid acc 0.7821.\n",
            "epoch 21, train loss 0.4483, train acc 0.7901, time 19.21\n",
            "epoch 21, valid loss 0.4217, valid acc 0.8042.\n",
            "epoch 22, train loss 0.4299, train acc 0.7993, time 19.25\n",
            "epoch 22, valid loss 0.4040, valid acc 0.8144.\n",
            "epoch 23, train loss 0.4239, train acc 0.8003, time 19.31\n",
            "epoch 23, valid loss 0.4605, valid acc 0.7756.\n",
            "epoch 24, train loss 0.4076, train acc 0.8114, time 20.79\n",
            "epoch 24, valid loss 0.3852, valid acc 0.8209.\n",
            "epoch 25, train loss 0.3924, train acc 0.8216, time 19.26\n",
            "epoch 25, valid loss 0.4823, valid acc 0.7849.\n",
            "epoch 26, train loss 0.3877, train acc 0.8241, time 20.64\n",
            "epoch 26, valid loss 0.3805, valid acc 0.8272.\n",
            "epoch 27, train loss 0.3798, train acc 0.8257, time 20.74\n",
            "epoch 27, valid loss 0.3656, valid acc 0.8314.\n",
            "epoch 28, train loss 0.3643, train acc 0.8377, time 19.05\n",
            "epoch 28, valid loss 0.3475, valid acc 0.8404.\n",
            "epoch 29, train loss 0.3685, train acc 0.8334, time 19.79\n",
            "epoch 29, valid loss 0.4457, valid acc 0.7851.\n",
            "epoch 30, train loss 0.3428, train acc 0.8468, time 20.80\n",
            "epoch 30, valid loss 0.3334, valid acc 0.8499.\n",
            "epoch 31, train loss 0.3419, train acc 0.8463, time 20.77\n",
            "epoch 31, valid loss 0.3317, valid acc 0.8479.\n",
            "epoch 32, train loss 0.3238, train acc 0.8550, time 20.77\n",
            "epoch 32, valid loss 0.3416, valid acc 0.8414.\n",
            "epoch 33, train loss 0.3210, train acc 0.8597, time 20.79\n",
            "epoch 33, valid loss 0.3194, valid acc 0.8554.\n",
            "epoch 34, train loss 0.3046, train acc 0.8642, time 20.38\n",
            "epoch 34, valid loss 0.3518, valid acc 0.8484.\n",
            "epoch 35, train loss 0.2987, train acc 0.8682, time 20.84\n",
            "epoch 35, valid loss 0.3503, valid acc 0.8464.\n"
          ],
          "name": "stdout"
        }
      ]
    },
    {
      "metadata": {
        "id": "w0k21TVdmQ3-",
        "colab_type": "code",
        "outputId": "b8bcf611-f928-493a-e614-cee59a8a43cd",
        "colab": {
          "base_uri": "https://localhost:8080/",
          "height": 905
        }
      },
      "cell_type": "code",
      "source": [
        "loss_acc_plot(content=[\"valid_acc\",\"train_acc\",\"valid_loss\",\"train_loss\"], \n",
        "              valid_loss=valid_loss, train_loss=train_loss, \n",
        "              valid_acc=valid_accuracy,train_acc=train_accuracy)"
      ],
      "execution_count": 0,
      "outputs": [
        {
          "output_type": "display_data",
          "data": {
            "image/png": "[encoded data removed]",
            "text/plain": [
              "<Figure size 1080x1080 with 1 Axes>"
            ]
          },
          "metadata": {
            "tags": []
          }
        }
      ]
    },
    {
      "metadata": {
        "id": "m1vlzmEUYGws",
        "colab_type": "code",
        "outputId": "09d0791d-2469-4f30-de70-94ca015eae51",
        "colab": {
          "base_uri": "https://localhost:8080/",
          "height": 1244
        }
      },
      "cell_type": "code",
      "source": [
        "def pred_result(net, test_iter, ctx, write_path):\n",
        "    res = []\n",
        "    for X, y in test_iter:\n",
        "        X = X.as_in_context(ctx)\n",
        "        y_hat = net(X)\n",
        "        pred  = y_hat.argmax(axis=1).astype('int').asnumpy()\n",
        "        res.extend(pred)\n",
        "        \n",
        "    ids = [x for x in list(range(1, 1+len(test_data)))]\n",
        "    ids.sort(key=lambda x: str(x))\n",
        "    res = [train_valid_data.synsets[x] for x in res]\n",
        "    \n",
        "    res_df = pd.DataFrame({'id':ids, 'label':res})\n",
        "    res_df.to_csv(os.path.join(write_path, 'submission.csv'), index=False)\n",
        "    print('submission file has been saved in:', os.path.join(write_path, 'submission.csv'))\n",
        "    \n",
        "vgg11 = VGG(conv_arch)\n",
        "vgg11.initialize(init=init.Xavier(), ctx=ctx)\n",
        "train_loss, valid_loss, train_accuracy, valid_accuracy = \\\n",
        "    train(vgg11, train_valid_iter, valid_iter, num_epochs, batch_size, lr, ctx)\n",
        "pred_result(vgg11, test_iter, ctx, '/content/gdrive/My Drive/Datasets/dogcat')"
      ],
      "execution_count": 0,
      "outputs": [
        {
          "output_type": "stream",
          "text": [
            "epoch 1, train loss 0.6915, train acc 0.5263, time 26.17\n",
            "epoch 1, valid loss 0.6881, valid acc 0.5305.\n",
            "epoch 2, train loss 0.6871, train acc 0.5477, time 25.90\n",
            "epoch 2, valid loss 0.6766, valid acc 0.5865.\n",
            "epoch 3, train loss 0.6789, train acc 0.5726, time 26.02\n",
            "epoch 3, valid loss 0.6572, valid acc 0.6258.\n",
            "epoch 4, train loss 0.6690, train acc 0.5947, time 25.97\n",
            "epoch 4, valid loss 0.6427, valid acc 0.6316.\n",
            "epoch 5, train loss 0.6491, train acc 0.6262, time 25.88\n",
            "epoch 5, valid loss 0.6201, valid acc 0.6576.\n",
            "epoch 6, train loss 0.6322, train acc 0.6459, time 26.00\n",
            "epoch 6, valid loss 0.5904, valid acc 0.6818.\n",
            "epoch 7, train loss 0.6089, train acc 0.6677, time 25.24\n",
            "epoch 7, valid loss 0.5602, valid acc 0.7171.\n",
            "epoch 8, train loss 0.5875, train acc 0.6853, time 25.90\n",
            "epoch 8, valid loss 0.5439, valid acc 0.7221.\n",
            "epoch 9, train loss 0.5626, train acc 0.7071, time 25.82\n",
            "epoch 9, valid loss 0.5192, valid acc 0.7524.\n",
            "epoch 10, train loss 0.5435, train acc 0.7191, time 26.09\n",
            "epoch 10, valid loss 0.5278, valid acc 0.7329.\n",
            "epoch 11, train loss 0.5179, train acc 0.7443, time 25.93\n",
            "epoch 11, valid loss 0.4928, valid acc 0.7621.\n",
            "epoch 12, train loss 0.5077, train acc 0.7472, time 25.94\n",
            "epoch 12, valid loss 0.4646, valid acc 0.7804.\n",
            "epoch 13, train loss 0.4801, train acc 0.7686, time 25.07\n",
            "epoch 13, valid loss 0.4511, valid acc 0.7916.\n",
            "epoch 14, train loss 0.4769, train acc 0.7673, time 24.97\n",
            "epoch 14, valid loss 0.4321, valid acc 0.7981.\n",
            "epoch 15, train loss 0.4538, train acc 0.7858, time 24.21\n",
            "epoch 15, valid loss 0.4142, valid acc 0.8154.\n",
            "epoch 16, train loss 0.4373, train acc 0.7919, time 23.20\n",
            "epoch 16, valid loss 0.3724, valid acc 0.8332.\n",
            "epoch 17, train loss 0.4293, train acc 0.8004, time 22.94\n",
            "epoch 17, valid loss 0.3821, valid acc 0.8294.\n",
            "epoch 18, train loss 0.4082, train acc 0.8121, time 23.43\n",
            "epoch 18, valid loss 0.3596, valid acc 0.8414.\n",
            "epoch 19, train loss 0.4012, train acc 0.8133, time 25.17\n",
            "epoch 19, valid loss 0.3648, valid acc 0.8412.\n",
            "epoch 20, train loss 0.3906, train acc 0.8190, time 25.22\n",
            "epoch 20, valid loss 0.4234, valid acc 0.8032.\n",
            "epoch 21, train loss 0.3784, train acc 0.8245, time 25.64\n",
            "epoch 21, valid loss 0.3126, valid acc 0.8602.\n",
            "epoch 22, train loss 0.3654, train acc 0.8345, time 25.82\n",
            "epoch 22, valid loss 0.2866, valid acc 0.8747.\n",
            "epoch 23, train loss 0.3476, train acc 0.8449, time 24.06\n",
            "epoch 23, valid loss 0.2853, valid acc 0.8749.\n",
            "epoch 24, train loss 0.3433, train acc 0.8463, time 24.08\n",
            "epoch 24, valid loss 0.2773, valid acc 0.8804.\n",
            "epoch 25, train loss 0.3219, train acc 0.8549, time 23.99\n",
            "epoch 25, valid loss 0.2570, valid acc 0.8879.\n",
            "epoch 26, train loss 0.3234, train acc 0.8570, time 24.05\n",
            "epoch 26, valid loss 0.2440, valid acc 0.8952.\n",
            "epoch 27, train loss 0.3060, train acc 0.8659, time 25.11\n",
            "epoch 27, valid loss 0.2609, valid acc 0.8897.\n",
            "epoch 28, train loss 0.2934, train acc 0.8713, time 23.55\n",
            "epoch 28, valid loss 0.2394, valid acc 0.8972.\n",
            "epoch 29, train loss 0.2903, train acc 0.8759, time 23.55\n",
            "epoch 29, valid loss 0.2223, valid acc 0.9060.\n",
            "epoch 30, train loss 0.2810, train acc 0.8778, time 24.55\n",
            "epoch 30, valid loss 0.2021, valid acc 0.9165.\n",
            "epoch 31, train loss 0.2738, train acc 0.8801, time 24.47\n",
            "epoch 31, valid loss 0.2419, valid acc 0.8979.\n",
            "epoch 32, train loss 0.2610, train acc 0.8865, time 24.50\n",
            "epoch 32, valid loss 0.2110, valid acc 0.9102.\n",
            "epoch 33, train loss 0.2594, train acc 0.8886, time 24.51\n",
            "epoch 33, valid loss 0.2125, valid acc 0.9160.\n",
            "epoch 34, train loss 0.2543, train acc 0.8885, time 23.46\n",
            "epoch 34, valid loss 0.1861, valid acc 0.9275.\n",
            "epoch 35, train loss 0.2441, train acc 0.8961, time 24.52\n",
            "epoch 35, valid loss 0.1803, valid acc 0.9302.\n",
            "submission file has been saved in: /content/gdrive/My Drive/Datasets/dogcat/submission.csv\n"
          ],
          "name": "stdout"
        }
      ]
    },
    {
      "metadata": {
        "id": "XtLBa3PdYM4m",
        "colab_type": "text"
      },
      "cell_type": "markdown",
      "source": [
        "### Hyperparameter Tuning\n",
        "\n",
        "All of settings are based on the setting used for generating results and only the corresponding hyperparameter is different:\n",
        "\n",
        "- Batch size: (128, 256), validation accuracy: (0.8464, 0.7571)\n",
        "- Learning rate: (0.1, 0.05, 0.005), validation accuracy: (0.8464, 0.8304, 0.6393)\n",
        "- Epochs: (15, 25, 35), validation accuracy: (0.7676, 0.7849, 0.8464)\n",
        "\n",
        "\n"
      ]
    },
    {
      "metadata": {
        "id": "Lm_myQLrg9t7",
        "colab_type": "code",
        "outputId": "22c2424e-60e3-4b63-ffe2-e673c13ded59",
        "colab": {
          "base_uri": "https://localhost:8080/",
          "height": 1226
        }
      },
      "cell_type": "code",
      "source": [
        "# batch_size: 256\n",
        "num_epochs, batch_size = 35, 256\n",
        "lr = 0.1\n",
        "train_iter, valid_iter, train_valid_iter, test_iter = load_data_iter(batch_size)\n",
        "conv_arch = ((1, 32), (2, 64), (2, 128), (2, 256))\n",
        "vgg12 = VGG(conv_arch)\n",
        "vgg12.initialize(init=init.Xavier(), ctx=ctx)\n",
        "train_loss, valid_loss, train_accuracy, valid_accuracy = \\\n",
        "    train(vgg12, train_iter, valid_iter, num_epochs, batch_size, lr, ctx)"
      ],
      "execution_count": 0,
      "outputs": [
        {
          "output_type": "stream",
          "text": [
            "epoch 1, train loss 0.6928, train acc 0.5124, time 17.13\n",
            "epoch 1, valid loss 0.6919, valid acc 0.5008.\n",
            "epoch 2, train loss 0.6916, train acc 0.5363, time 17.10\n",
            "epoch 2, valid loss 0.6904, valid acc 0.5923.\n",
            "epoch 3, train loss 0.6907, train acc 0.5414, time 17.14\n",
            "epoch 3, valid loss 0.6883, valid acc 0.5843.\n",
            "epoch 4, train loss 0.6882, train acc 0.5569, time 17.10\n",
            "epoch 4, valid loss 0.6844, valid acc 0.5868.\n",
            "epoch 5, train loss 0.6868, train acc 0.5464, time 17.15\n",
            "epoch 5, valid loss 0.6802, valid acc 0.5885.\n",
            "epoch 6, train loss 0.6854, train acc 0.5597, time 17.09\n",
            "epoch 6, valid loss 0.6789, valid acc 0.5713.\n",
            "epoch 7, train loss 0.6819, train acc 0.5687, time 17.10\n",
            "epoch 7, valid loss 0.6762, valid acc 0.5770.\n",
            "epoch 8, train loss 0.6823, train acc 0.5629, time 17.09\n",
            "epoch 8, valid loss 0.6796, valid acc 0.6086.\n",
            "epoch 9, train loss 0.6763, train acc 0.5820, time 17.09\n",
            "epoch 9, valid loss 0.6657, valid acc 0.6046.\n",
            "epoch 10, train loss 0.6744, train acc 0.5871, time 17.12\n",
            "epoch 10, valid loss 0.6613, valid acc 0.6118.\n",
            "epoch 11, train loss 0.6724, train acc 0.5916, time 17.10\n",
            "epoch 11, valid loss 0.6556, valid acc 0.6191.\n",
            "epoch 12, train loss 0.6676, train acc 0.6062, time 17.10\n",
            "epoch 12, valid loss 0.6496, valid acc 0.6301.\n",
            "epoch 13, train loss 0.6627, train acc 0.6058, time 17.12\n",
            "epoch 13, valid loss 0.6474, valid acc 0.6328.\n",
            "epoch 14, train loss 0.6559, train acc 0.6134, time 17.02\n",
            "epoch 14, valid loss 0.6428, valid acc 0.6436.\n",
            "epoch 15, train loss 0.6502, train acc 0.6273, time 17.07\n",
            "epoch 15, valid loss 0.6327, valid acc 0.6618.\n",
            "epoch 16, train loss 0.6459, train acc 0.6371, time 17.01\n",
            "epoch 16, valid loss 0.6202, valid acc 0.6626.\n",
            "epoch 17, train loss 0.6413, train acc 0.6399, time 16.96\n",
            "epoch 17, valid loss 0.6203, valid acc 0.6731.\n",
            "epoch 18, train loss 0.6290, train acc 0.6526, time 16.97\n",
            "epoch 18, valid loss 0.6104, valid acc 0.6856.\n",
            "epoch 19, train loss 0.6255, train acc 0.6574, time 16.97\n",
            "epoch 19, valid loss 0.6643, valid acc 0.5893.\n",
            "epoch 20, train loss 0.6168, train acc 0.6651, time 17.06\n",
            "epoch 20, valid loss 0.6021, valid acc 0.6738.\n",
            "epoch 21, train loss 0.6075, train acc 0.6724, time 17.15\n",
            "epoch 21, valid loss 0.5839, valid acc 0.6931.\n",
            "epoch 22, train loss 0.6049, train acc 0.6753, time 17.13\n",
            "epoch 22, valid loss 0.5772, valid acc 0.7011.\n",
            "epoch 23, train loss 0.5917, train acc 0.6880, time 17.20\n",
            "epoch 23, valid loss 0.6013, valid acc 0.6763.\n",
            "epoch 24, train loss 0.5902, train acc 0.6879, time 17.15\n",
            "epoch 24, valid loss 0.5653, valid acc 0.7091.\n",
            "epoch 25, train loss 0.5715, train acc 0.7057, time 17.19\n",
            "epoch 25, valid loss 0.5947, valid acc 0.6888.\n",
            "epoch 26, train loss 0.5777, train acc 0.6971, time 17.17\n",
            "epoch 26, valid loss 0.5464, valid acc 0.7269.\n",
            "epoch 27, train loss 0.5603, train acc 0.7161, time 17.15\n",
            "epoch 27, valid loss 0.5549, valid acc 0.7156.\n",
            "epoch 28, train loss 0.5618, train acc 0.7121, time 17.20\n",
            "epoch 28, valid loss 0.5394, valid acc 0.7316.\n",
            "epoch 29, train loss 0.5521, train acc 0.7135, time 17.16\n",
            "epoch 29, valid loss 0.5360, valid acc 0.7324.\n",
            "epoch 30, train loss 0.5448, train acc 0.7238, time 17.12\n",
            "epoch 30, valid loss 0.5221, valid acc 0.7359.\n",
            "epoch 31, train loss 0.5423, train acc 0.7254, time 17.16\n",
            "epoch 31, valid loss 0.5309, valid acc 0.7354.\n",
            "epoch 32, train loss 0.5267, train acc 0.7367, time 17.11\n",
            "epoch 32, valid loss 0.5182, valid acc 0.7439.\n",
            "epoch 33, train loss 0.5194, train acc 0.7396, time 17.17\n",
            "epoch 33, valid loss 0.5077, valid acc 0.7511.\n",
            "epoch 34, train loss 0.5214, train acc 0.7386, time 17.15\n",
            "epoch 34, valid loss 0.5023, valid acc 0.7586.\n",
            "epoch 35, train loss 0.5064, train acc 0.7493, time 17.13\n",
            "epoch 35, valid loss 0.5022, valid acc 0.7571.\n"
          ],
          "name": "stdout"
        }
      ]
    },
    {
      "metadata": {
        "id": "cxaN-VvAKuPN",
        "colab_type": "code",
        "outputId": "205a807e-6030-49a1-836f-25d22abb6c72",
        "colab": {
          "base_uri": "https://localhost:8080/",
          "height": 1226
        }
      },
      "cell_type": "code",
      "source": [
        "# lr: 0.05\n",
        "num_epochs, batch_size = 35, 128\n",
        "lr = 0.05\n",
        "train_iter, valid_iter, train_valid_iter, test_iter = load_data_iter(batch_size)\n",
        "conv_arch = ((1, 32), (2, 64), (2, 128), (2, 256))\n",
        "vgg12 = VGG(conv_arch)\n",
        "vgg12.initialize(init=init.Xavier(), ctx=ctx)\n",
        "train_loss, valid_loss, train_accuracy, valid_accuracy = \\\n",
        "    train(vgg12, train_iter, valid_iter, num_epochs, batch_size, lr, ctx)"
      ],
      "execution_count": 0,
      "outputs": [
        {
          "output_type": "stream",
          "text": [
            "epoch 1, train loss 0.6919, train acc 0.5199, time 17.69\n",
            "epoch 1, valid loss 0.6906, valid acc 0.5698.\n",
            "epoch 2, train loss 0.6901, train acc 0.5356, time 17.66\n",
            "epoch 2, valid loss 0.6885, valid acc 0.5353.\n",
            "epoch 3, train loss 0.6878, train acc 0.5440, time 18.28\n",
            "epoch 3, valid loss 0.6816, valid acc 0.5858.\n",
            "epoch 4, train loss 0.6841, train acc 0.5584, time 19.37\n",
            "epoch 4, valid loss 0.6817, valid acc 0.5488.\n",
            "epoch 5, train loss 0.6795, train acc 0.5759, time 20.64\n",
            "epoch 5, valid loss 0.6664, valid acc 0.6111.\n",
            "epoch 6, train loss 0.6746, train acc 0.5876, time 20.57\n",
            "epoch 6, valid loss 0.6703, valid acc 0.5820.\n",
            "epoch 7, train loss 0.6658, train acc 0.6007, time 20.56\n",
            "epoch 7, valid loss 0.7264, valid acc 0.5183.\n",
            "epoch 8, train loss 0.6598, train acc 0.6103, time 20.38\n",
            "epoch 8, valid loss 0.6560, valid acc 0.6096.\n",
            "epoch 9, train loss 0.6489, train acc 0.6268, time 20.62\n",
            "epoch 9, valid loss 0.6568, valid acc 0.6108.\n",
            "epoch 10, train loss 0.6380, train acc 0.6441, time 19.20\n",
            "epoch 10, valid loss 0.6109, valid acc 0.6868.\n",
            "epoch 11, train loss 0.6247, train acc 0.6546, time 20.53\n",
            "epoch 11, valid loss 0.5982, valid acc 0.6936.\n",
            "epoch 12, train loss 0.6069, train acc 0.6744, time 20.60\n",
            "epoch 12, valid loss 0.6107, valid acc 0.6703.\n",
            "epoch 13, train loss 0.5922, train acc 0.6851, time 19.00\n",
            "epoch 13, valid loss 0.5675, valid acc 0.7094.\n",
            "epoch 14, train loss 0.5834, train acc 0.6958, time 19.05\n",
            "epoch 14, valid loss 0.5607, valid acc 0.7121.\n",
            "epoch 15, train loss 0.5683, train acc 0.7034, time 19.92\n",
            "epoch 15, valid loss 0.5776, valid acc 0.7061.\n",
            "epoch 16, train loss 0.5546, train acc 0.7137, time 20.64\n",
            "epoch 16, valid loss 0.5548, valid acc 0.7199.\n",
            "epoch 17, train loss 0.5434, train acc 0.7249, time 20.72\n",
            "epoch 17, valid loss 0.5283, valid acc 0.7409.\n",
            "epoch 18, train loss 0.5355, train acc 0.7289, time 20.65\n",
            "epoch 18, valid loss 0.5136, valid acc 0.7504.\n",
            "epoch 19, train loss 0.5189, train acc 0.7454, time 20.64\n",
            "epoch 19, valid loss 0.4993, valid acc 0.7621.\n",
            "epoch 20, train loss 0.5158, train acc 0.7444, time 20.63\n",
            "epoch 20, valid loss 0.4950, valid acc 0.7666.\n",
            "epoch 21, train loss 0.4997, train acc 0.7573, time 18.96\n",
            "epoch 21, valid loss 0.5049, valid acc 0.7564.\n",
            "epoch 22, train loss 0.4838, train acc 0.7667, time 19.20\n",
            "epoch 22, valid loss 0.4850, valid acc 0.7661.\n",
            "epoch 23, train loss 0.4795, train acc 0.7669, time 19.06\n",
            "epoch 23, valid loss 0.4812, valid acc 0.7681.\n",
            "epoch 24, train loss 0.4730, train acc 0.7738, time 19.07\n",
            "epoch 24, valid loss 0.4501, valid acc 0.7876.\n",
            "epoch 25, train loss 0.4623, train acc 0.7801, time 19.04\n",
            "epoch 25, valid loss 0.4454, valid acc 0.7926.\n",
            "epoch 26, train loss 0.4590, train acc 0.7801, time 19.85\n",
            "epoch 26, valid loss 0.4465, valid acc 0.7926.\n",
            "epoch 27, train loss 0.4430, train acc 0.7906, time 18.94\n",
            "epoch 27, valid loss 0.4574, valid acc 0.7756.\n",
            "epoch 28, train loss 0.4307, train acc 0.8006, time 18.90\n",
            "epoch 28, valid loss 0.4277, valid acc 0.8034.\n",
            "epoch 29, train loss 0.4270, train acc 0.7998, time 19.00\n",
            "epoch 29, valid loss 0.4147, valid acc 0.8117.\n",
            "epoch 30, train loss 0.4218, train acc 0.8036, time 19.11\n",
            "epoch 30, valid loss 0.4102, valid acc 0.8087.\n",
            "epoch 31, train loss 0.4125, train acc 0.8084, time 19.09\n",
            "epoch 31, valid loss 0.4051, valid acc 0.8159.\n",
            "epoch 32, train loss 0.3983, train acc 0.8152, time 20.58\n",
            "epoch 32, valid loss 0.4423, valid acc 0.7894.\n",
            "epoch 33, train loss 0.3933, train acc 0.8170, time 20.12\n",
            "epoch 33, valid loss 0.3906, valid acc 0.8254.\n",
            "epoch 34, train loss 0.3876, train acc 0.8216, time 20.08\n",
            "epoch 34, valid loss 0.3728, valid acc 0.8304.\n",
            "epoch 35, train loss 0.3825, train acc 0.8251, time 20.77\n",
            "epoch 35, valid loss 0.4395, valid acc 0.7939.\n"
          ],
          "name": "stdout"
        }
      ]
    },
    {
      "metadata": {
        "id": "85_emWpXd71n",
        "colab_type": "code",
        "outputId": "ee157424-71d7-4634-beab-236650f3d5b2",
        "colab": {
          "base_uri": "https://localhost:8080/",
          "height": 1226
        }
      },
      "cell_type": "code",
      "source": [
        "# lr: 0.005\n",
        "num_epochs, batch_size = 35, 128\n",
        "lr = 0.005\n",
        "train_iter, valid_iter, train_valid_iter, test_iter = load_data_iter(batch_size)\n",
        "conv_arch = ((1, 32), (2, 64), (2, 128), (2, 256))\n",
        "vgg12 = VGG(conv_arch)\n",
        "vgg12.initialize(init=init.Xavier(), ctx=ctx)\n",
        "train_loss, valid_loss, train_accuracy, valid_accuracy = \\\n",
        "    train(vgg12, train_iter, valid_iter, num_epochs, batch_size, lr, ctx)"
      ],
      "execution_count": 0,
      "outputs": [
        {
          "output_type": "stream",
          "text": [
            "epoch 1, train loss 0.6930, train acc 0.5175, time 19.46\n",
            "epoch 1, valid loss 0.6926, valid acc 0.5573.\n",
            "epoch 2, train loss 0.6924, train acc 0.5364, time 20.23\n",
            "epoch 2, valid loss 0.6922, valid acc 0.5145.\n",
            "epoch 3, train loss 0.6921, train acc 0.5377, time 21.13\n",
            "epoch 3, valid loss 0.6918, valid acc 0.5620.\n",
            "epoch 4, train loss 0.6918, train acc 0.5520, time 21.23\n",
            "epoch 4, valid loss 0.6914, valid acc 0.5655.\n",
            "epoch 5, train loss 0.6914, train acc 0.5658, time 19.77\n",
            "epoch 5, valid loss 0.6909, valid acc 0.5738.\n",
            "epoch 6, train loss 0.6909, train acc 0.5690, time 19.01\n",
            "epoch 6, valid loss 0.6904, valid acc 0.5695.\n",
            "epoch 7, train loss 0.6904, train acc 0.5622, time 19.13\n",
            "epoch 7, valid loss 0.6899, valid acc 0.5763.\n",
            "epoch 8, train loss 0.6900, train acc 0.5646, time 18.43\n",
            "epoch 8, valid loss 0.6893, valid acc 0.5708.\n",
            "epoch 9, train loss 0.6895, train acc 0.5661, time 19.23\n",
            "epoch 9, valid loss 0.6886, valid acc 0.5713.\n",
            "epoch 10, train loss 0.6888, train acc 0.5700, time 20.01\n",
            "epoch 10, valid loss 0.6876, valid acc 0.5765.\n",
            "epoch 11, train loss 0.6879, train acc 0.5716, time 20.30\n",
            "epoch 11, valid loss 0.6866, valid acc 0.5753.\n",
            "epoch 12, train loss 0.6870, train acc 0.5663, time 19.74\n",
            "epoch 12, valid loss 0.6856, valid acc 0.5673.\n",
            "epoch 13, train loss 0.6861, train acc 0.5674, time 19.77\n",
            "epoch 13, valid loss 0.6840, valid acc 0.5755.\n",
            "epoch 14, train loss 0.6841, train acc 0.5752, time 20.94\n",
            "epoch 14, valid loss 0.6822, valid acc 0.5828.\n",
            "epoch 15, train loss 0.6827, train acc 0.5724, time 19.75\n",
            "epoch 15, valid loss 0.6802, valid acc 0.5800.\n",
            "epoch 16, train loss 0.6807, train acc 0.5759, time 19.68\n",
            "epoch 16, valid loss 0.6783, valid acc 0.5825.\n",
            "epoch 17, train loss 0.6796, train acc 0.5729, time 19.64\n",
            "epoch 17, valid loss 0.6777, valid acc 0.5758.\n",
            "epoch 18, train loss 0.6774, train acc 0.5808, time 20.86\n",
            "epoch 18, valid loss 0.6760, valid acc 0.5808.\n",
            "epoch 19, train loss 0.6762, train acc 0.5845, time 20.42\n",
            "epoch 19, valid loss 0.6724, valid acc 0.5898.\n",
            "epoch 20, train loss 0.6728, train acc 0.5896, time 19.30\n",
            "epoch 20, valid loss 0.6738, valid acc 0.5778.\n",
            "epoch 21, train loss 0.6729, train acc 0.5893, time 19.26\n",
            "epoch 21, valid loss 0.6639, valid acc 0.6043.\n",
            "epoch 22, train loss 0.6705, train acc 0.5941, time 20.82\n",
            "epoch 22, valid loss 0.6645, valid acc 0.6023.\n",
            "epoch 23, train loss 0.6691, train acc 0.5926, time 19.71\n",
            "epoch 23, valid loss 0.6614, valid acc 0.6053.\n",
            "epoch 24, train loss 0.6704, train acc 0.5912, time 19.60\n",
            "epoch 24, valid loss 0.6774, valid acc 0.5715.\n",
            "epoch 25, train loss 0.6697, train acc 0.5913, time 20.82\n",
            "epoch 25, valid loss 0.6644, valid acc 0.5968.\n",
            "epoch 26, train loss 0.6663, train acc 0.5941, time 20.40\n",
            "epoch 26, valid loss 0.6549, valid acc 0.6183.\n",
            "epoch 27, train loss 0.6637, train acc 0.6031, time 19.95\n",
            "epoch 27, valid loss 0.6538, valid acc 0.6183.\n",
            "epoch 28, train loss 0.6642, train acc 0.6018, time 19.48\n",
            "epoch 28, valid loss 0.6546, valid acc 0.6161.\n",
            "epoch 29, train loss 0.6621, train acc 0.6071, time 19.72\n",
            "epoch 29, valid loss 0.6615, valid acc 0.5963.\n",
            "epoch 30, train loss 0.6601, train acc 0.6086, time 20.89\n",
            "epoch 30, valid loss 0.6624, valid acc 0.5955.\n",
            "epoch 31, train loss 0.6594, train acc 0.6101, time 19.86\n",
            "epoch 31, valid loss 0.6508, valid acc 0.6218.\n",
            "epoch 32, train loss 0.6578, train acc 0.6131, time 19.90\n",
            "epoch 32, valid loss 0.6545, valid acc 0.6148.\n",
            "epoch 33, train loss 0.6559, train acc 0.6165, time 21.02\n",
            "epoch 33, valid loss 0.6560, valid acc 0.6073.\n",
            "epoch 34, train loss 0.6514, train acc 0.6209, time 19.69\n",
            "epoch 34, valid loss 0.6393, valid acc 0.6336.\n",
            "epoch 35, train loss 0.6544, train acc 0.6199, time 19.69\n",
            "epoch 35, valid loss 0.6380, valid acc 0.6393.\n"
          ],
          "name": "stdout"
        }
      ]
    },
    {
      "metadata": {
        "id": "APsEoQzzm-Xu",
        "colab_type": "code",
        "outputId": "043c6153-a0b2-4e25-88e6-53a8714e97f5",
        "colab": {
          "base_uri": "https://localhost:8080/",
          "height": 52
        }
      },
      "cell_type": "code",
      "source": [
        "# vgg11 is trained\n",
        "# This code block is used to get info for visualization\n",
        "# Visualization related code can be found in the github.\n",
        "import numpy as np\n",
        "train_iter, valid_iter, train_valid_iter, test_iter = load_data_iter(128)\n",
        "\n",
        "state_dict = {}\n",
        "y_hat_np, y_np, res = np.zeros((1, 2)), np.zeros((1)), np.zeros((1))\n",
        "for X, y in valid_iter:\n",
        "    X, y = X.as_in_context(ctx), y.asnumpy()\n",
        "    y_hat = vgg11(X).softmax().asnumpy()\n",
        "    pred = y_hat.argmax(axis=1) == y\n",
        "\n",
        "    y_hat_np = np.concatenate((y_hat_np, y_hat), axis=0)\n",
        "    y_np = np.concatenate((y_np, y), axis=0)\n",
        "    res = np.concatenate((res, pred), axis=0)\n",
        "\n",
        "y_hat_np, y_np, res = y_hat_np[1:, :], y_np[1:], res[1:]\n",
        "y_res = np.concatenate((y_np.reshape((-1,1)), res.reshape((-1,1))), axis=1)\n",
        "\n",
        "y_hat_np = y_hat_np.tolist()\n",
        "y_res = y_res.tolist()\n",
        "y_res = [(i, x, y) for i, (x, y) in enumerate(y_res) if y==0]\n",
        "\n",
        "y_res = [(i, x, y_hat_np[i][int(x)]) for (i, x, y) in y_res]\n",
        "\n",
        "err_0 = [(i, x, y) for (i, x, y) in y_res if x==0]\n",
        "err_1 = [(i, x, y) for (i, x, y) in y_res if x==1]\n",
        "err_0.sort(key=lambda t: t[2])\n",
        "err_1.sort(key=lambda t: t[2])\n",
        "print('Nuber of wrong classified',valid_data.synsets[0], ':', len(err_0))\n",
        "print('Nuber of wrong classified',valid_data.synsets[1], ':', len(err_1))\n",
        "\n",
        "least5_0 = [(x[0],x[2]) for x in err_0[:5]]\n",
        "top5_0 = [(x[0],x[2]) for x in err_0[-5:]]\n",
        "least5_1 = [(x[0],x[2]) for x in err_1[:5]]\n",
        "top5_1 = [(x[0],x[2]) for x in err_1[-5:]]\n",
        "\n",
        "filename = lambda y: [(valid_data.items[x[0]][0].split('/')[-1],x[1]) for x in y]\n",
        "\n",
        "state_dict['least0'] = filename(least5_0)\n",
        "state_dict['top0'] = filename(top5_0)\n",
        "state_dict['least1'] = filename(least5_1)\n",
        "state_dict['top1'] = filename(top5_1)\n",
        "\n",
        "wt = [aa.data().asnumpy() \n",
        "      for aa in vgg11.collect_params('conv.*weight').values()]\n",
        "\n",
        "state_dict['conv_first'] = wt[0]\n",
        "state_dict['conv_last']  = wt[-1]\n",
        "\n",
        "import pickle\n",
        "with open('/content/gdrive/My Drive/Datasets/dogcat/state_dict.pickle', 'wb') as f:\n",
        "    pickle.dump(state_dict, f)\n",
        "with open('/content/gdrive/My Drive/Datasets/dogcat/state_dict.pickle', 'rb') as f:\n",
        "    aaa = pickle.load(f)"
      ],
      "execution_count": 0,
      "outputs": [
        {
          "output_type": "stream",
          "text": [
            "Nuber of wrong classified Cat : 101\n",
            "Nuber of wrong classified Dog : 178\n"
          ],
          "name": "stdout"
        }
      ]
    },
    {
      "metadata": {
        "id": "uOjZCrG95uhY",
        "colab_type": "text"
      },
      "cell_type": "markdown",
      "source": [
        "## Appendix: ResNet Implementation\n",
        "\n",
        "We also implemented and tested a ResNet on the dataset. With BatchNorm, it can achieve higher accuracy with less epochs. But when BatchNorm is dropped out, its accuracy is pretty low. Considering that BatchNorm need to be implemented by hand, we only used this part as an experiment and didn't use it to submit results on kaggle."
      ]
    },
    {
      "metadata": {
        "id": "jFHRB3HH5IR5",
        "colab_type": "code",
        "colab": {}
      },
      "cell_type": "code",
      "source": [
        "class ResBlock(nn.Block):\n",
        "    def __init__(self, n_channels, strides=1, nin=False, **kwargs):\n",
        "        super(ResBlock, self).__init__(**kwargs)\n",
        "        \n",
        "        self.conv1 = nn.Conv2D(n_channels, kernel_size=3, padding=1, strides=strides)\n",
        "        self.conv2 = nn.Conv2D(n_channels, kernel_size=3, padding=1)\n",
        "        \n",
        "        self.nin   = None\n",
        "        if nin:\n",
        "            self.nin = nn.Conv2D(n_channels, kernel_size=1, strides=strides)\n",
        "            \n",
        "        self.bn1 = nn.BatchNorm()\n",
        "        self.bn2 = nn.BatchNorm()\n",
        "            \n",
        "    def forward(self, X):\n",
        "        res = nd.relu(self.bn1(self.conv1(X)))\n",
        "        res = self.bn2(self.conv2(res))\n",
        "        \n",
        "        if self.nin:\n",
        "            X = self.nin(X)\n",
        "        return nd.relu(res + X)"
      ],
      "execution_count": 0,
      "outputs": []
    },
    {
      "metadata": {
        "id": "gQj4IuPO7VWX",
        "colab_type": "code",
        "colab": {}
      },
      "cell_type": "code",
      "source": [
        "class ResNet18(nn.Block):\n",
        "    \n",
        "    def __init__(self, n_outputs, **kwargs):\n",
        "        super(ResNet18, self).__init__(**kwargs)\n",
        "        \n",
        "        self.net = nn.Sequential()\n",
        "        self.net.add(\n",
        "            nn.Conv2D(64, kernel_size=3, strides=1, padding=1),\n",
        "            nn.BatchNorm(),\n",
        "            nn.Activation('relu')\n",
        "        )\n",
        "        \n",
        "        self.net.add(\n",
        "            self.add_block(64, 2, nin=True),\n",
        "            self.add_block(128, 2),\n",
        "            self.add_block(256, 2),\n",
        "            self.add_block(512, 2)\n",
        "        )\n",
        "        \n",
        "        self.net.add(nn.GlobalAvgPool2D(), nn.Dense(n_outputs))\n",
        "        \n",
        "    def forward(self, X):\n",
        "        return self.net(X)\n",
        "        \n",
        "    def add_block(self, n_channels, n_blocks, nin=False):\n",
        "        net = nn.Sequential()\n",
        "\n",
        "        if not nin:\n",
        "            net.add(ResBlock(n_channels, 2, True))\n",
        "            n_blocks -= 1\n",
        "\n",
        "        for i in range(n_blocks):\n",
        "            net.add(ResBlock(n_channels))\n",
        "\n",
        "        return net"
      ],
      "execution_count": 0,
      "outputs": []
    },
    {
      "metadata": {
        "id": "GHRr6bm4J5Ej",
        "colab_type": "code",
        "outputId": "9aaf87b6-a899-4a95-e7e0-a3f0c071975b",
        "colab": {
          "base_uri": "https://localhost:8080/",
          "height": 1226
        }
      },
      "cell_type": "code",
      "source": [
        "resnet = ResNet18(2)\n",
        "resnet.initialize(init=init.Xavier(), force_reinit=True, ctx=ctx)\n",
        "num_epochs, batch_size = 35, 128\n",
        "lr = 5e-2\n",
        "ctx = mx.gpu()\n",
        "train(resnet, train_iter, valid_iter, num_epochs, batch_size, lr, ctx)"
      ],
      "execution_count": 0,
      "outputs": [
        {
          "output_type": "stream",
          "text": [
            "epoch 1, train loss 0.9074, train acc 0.5543, time 97.63\n",
            "epoch 1, test acc 0.5458.\n",
            "epoch 2, train loss 0.6675, train acc 0.6156, time 97.46\n",
            "epoch 2, test acc 0.6496.\n",
            "epoch 3, train loss 0.6459, train acc 0.6331, time 97.36\n",
            "epoch 3, test acc 0.5128.\n",
            "epoch 4, train loss 0.6149, train acc 0.6719, time 97.23\n",
            "epoch 4, test acc 0.6738.\n",
            "epoch 5, train loss 0.5932, train acc 0.6843, time 97.23\n",
            "epoch 5, test acc 0.7404.\n",
            "epoch 6, train loss 0.5673, train acc 0.7096, time 97.54\n",
            "epoch 6, test acc 0.7071.\n",
            "epoch 7, train loss 0.5462, train acc 0.7221, time 97.28\n",
            "epoch 7, test acc 0.5630.\n",
            "epoch 8, train loss 0.5244, train acc 0.7425, time 97.36\n",
            "epoch 8, test acc 0.7449.\n",
            "epoch 9, train loss 0.4928, train acc 0.7650, time 97.67\n",
            "epoch 9, test acc 0.7224.\n",
            "epoch 10, train loss 0.4694, train acc 0.7756, time 97.37\n",
            "epoch 10, test acc 0.6308.\n",
            "epoch 11, train loss 0.4428, train acc 0.7924, time 97.41\n",
            "epoch 11, test acc 0.7759.\n",
            "epoch 12, train loss 0.4149, train acc 0.8088, time 97.21\n",
            "epoch 12, test acc 0.6983.\n",
            "epoch 13, train loss 0.3889, train acc 0.8205, time 97.21\n",
            "epoch 13, test acc 0.8462.\n",
            "epoch 14, train loss 0.3670, train acc 0.8356, time 97.23\n",
            "epoch 14, test acc 0.8549.\n",
            "epoch 15, train loss 0.3516, train acc 0.8462, time 97.04\n",
            "epoch 15, test acc 0.8382.\n",
            "epoch 16, train loss 0.3305, train acc 0.8558, time 97.04\n",
            "epoch 16, test acc 0.8024.\n",
            "epoch 17, train loss 0.3216, train acc 0.8576, time 97.34\n",
            "epoch 17, test acc 0.7831.\n",
            "epoch 18, train loss 0.3093, train acc 0.8628, time 96.94\n",
            "epoch 18, test acc 0.8344.\n",
            "epoch 19, train loss 0.2951, train acc 0.8726, time 96.91\n",
            "epoch 19, test acc 0.8232.\n",
            "epoch 20, train loss 0.2825, train acc 0.8768, time 97.07\n",
            "epoch 20, test acc 0.8769.\n",
            "epoch 21, train loss 0.2803, train acc 0.8781, time 96.76\n",
            "epoch 21, test acc 0.8759.\n",
            "epoch 22, train loss 0.2631, train acc 0.8876, time 96.71\n",
            "epoch 22, test acc 0.7274.\n",
            "epoch 23, train loss 0.2562, train acc 0.8912, time 96.86\n",
            "epoch 23, test acc 0.8889.\n",
            "epoch 24, train loss 0.2475, train acc 0.8909, time 96.57\n",
            "epoch 24, test acc 0.8907.\n",
            "epoch 25, train loss 0.2411, train acc 0.8955, time 96.79\n",
            "epoch 25, test acc 0.8414.\n",
            "epoch 26, train loss 0.2297, train acc 0.9010, time 96.81\n",
            "epoch 26, test acc 0.8729.\n",
            "epoch 27, train loss 0.2206, train acc 0.9078, time 96.76\n",
            "epoch 27, test acc 0.8609.\n",
            "epoch 28, train loss 0.2219, train acc 0.9074, time 96.71\n",
            "epoch 28, test acc 0.8822.\n",
            "epoch 29, train loss 0.2104, train acc 0.9082, time 96.79\n",
            "epoch 29, test acc 0.8872.\n",
            "epoch 30, train loss 0.2125, train acc 0.9116, time 96.71\n",
            "epoch 30, test acc 0.8734.\n",
            "epoch 31, train loss 0.1979, train acc 0.9131, time 96.68\n",
            "epoch 31, test acc 0.8919.\n",
            "epoch 32, train loss 0.1928, train acc 0.9181, time 96.84\n",
            "epoch 32, test acc 0.9155.\n",
            "epoch 33, train loss 0.1897, train acc 0.9206, time 96.84\n",
            "epoch 33, test acc 0.8724.\n",
            "epoch 34, train loss 0.1828, train acc 0.9219, time 96.64\n",
            "epoch 34, test acc 0.9150.\n",
            "epoch 35, train loss 0.1771, train acc 0.9261, time 96.91\n",
            "epoch 35, test acc 0.9135.\n"
          ],
          "name": "stdout"
        }
      ]
    }
  ]
}