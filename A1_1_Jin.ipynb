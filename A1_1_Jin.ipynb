{
  "nbformat": 4,
  "nbformat_minor": 0,
  "metadata": {
    "colab": {
      "name": "A1_1_Jin.ipynb",
      "version": "0.3.2",
      "provenance": [],
      "collapsed_sections": []
    },
    "kernelspec": {
      "name": "python3",
      "display_name": "Python 3"
    }
  },
  "cells": [
    {
      "metadata": {
        "id": "nLq7oyvKvzvN",
        "colab_type": "text"
      },
      "cell_type": "markdown",
      "source": [
        "# Problem 1"
      ]
    },
    {
      "metadata": {
        "id": "ajrMnZLJeMHv",
        "colab_type": "code",
        "colab": {}
      },
      "cell_type": "code",
      "source": [
        "import numpy as np\n",
        "import matplotlib.pyplot as plt\n",
        "import random\n",
        "np.random.seed(1)"
      ],
      "execution_count": 0,
      "outputs": []
    },
    {
      "metadata": {
        "id": "IgyWZVSD64lB",
        "colab_type": "code",
        "outputId": "2ed2bef3-2caf-4885-e637-0e0c08ffa22c",
        "colab": {
          "base_uri": "https://localhost:8080/",
          "height": 124
        }
      },
      "cell_type": "code",
      "source": [
        "from google.colab import drive\n",
        "drive.mount('/content/gdrive')"
      ],
      "execution_count": 2,
      "outputs": [
        {
          "output_type": "stream",
          "text": [
            "Go to this URL in a browser: https://accounts.google.com/o/oauth2/auth?client_id=947318989803-6bn6qk8qdgf4n4g3pfee6491hc0brc4i.apps.googleusercontent.com&redirect_uri=urn%3Aietf%3Awg%3Aoauth%3A2.0%3Aoob&scope=email%20https%3A%2F%2Fwww.googleapis.com%2Fauth%2Fdocs.test%20https%3A%2F%2Fwww.googleapis.com%2Fauth%2Fdrive%20https%3A%2F%2Fwww.googleapis.com%2Fauth%2Fdrive.photos.readonly%20https%3A%2F%2Fwww.googleapis.com%2Fauth%2Fpeopleapi.readonly&response_type=code\n",
            "\n",
            "Enter your authorization code:\n",
            "··········\n",
            "Mounted at /content/gdrive\n"
          ],
          "name": "stdout"
        }
      ]
    },
    {
      "metadata": {
        "id": "FZ6GHmwLwkj4",
        "colab_type": "text"
      },
      "cell_type": "markdown",
      "source": [
        "## Building the Model\n",
        "\n",
        "1. We use two 666- dimensional hidden layers, the number of parameters are  $(784+1)*666+(666+1)*666+(666+1)*10 = 973,702$.\n",
        "\n",
        "2. We implement a vectorized forward and backward propagation with mini-batch."
      ]
    },
    {
      "metadata": {
        "id": "HN603fuc-9PX",
        "colab_type": "code",
        "colab": {}
      },
      "cell_type": "code",
      "source": [
        "def one_hot(labels, n):\n",
        "    \"\"\"labels: m*1 vector\n",
        "       n: expected classes\n",
        "       outout: m*n matrix\"\"\"\n",
        "    m = len(labels)\n",
        "    onehot = np.zeros((m, n))\n",
        "    onehot[np.arange(m), labels] = 1\n",
        "    return onehot\n",
        "\n",
        "# We re-store the dataset into different npy files\n",
        "# label is one-hot encoded by one_hot\n",
        "\n",
        "DATA_PATH = r'/content/gdrive/My Drive/Datasets/MNIST'\n",
        "X_train = np.load(DATA_PATH + '/x_train.npy')\n",
        "y_train = one_hot(np.load(DATA_PATH + '/y_train.npy'),10)\n",
        "X_val   = np.load(DATA_PATH + '/x_val.npy')\n",
        "y_val   = one_hot(np.load(DATA_PATH + '/y_val.npy'),10)\n",
        "X_test  = np.load(DATA_PATH + '/x_test.npy')\n",
        "y_test  = one_hot(np.load(DATA_PATH + '/y_test.npy'),10)"
      ],
      "execution_count": 0,
      "outputs": []
    },
    {
      "metadata": {
        "id": "BXmeo9zw7Swx",
        "colab_type": "code",
        "colab": {}
      },
      "cell_type": "code",
      "source": [
        "def accuracy(y_pred, y):\n",
        "    return np.sum(1 * np.argmax(y_pred, axis=1) == np.argmax(y, axis=1)) * 100.0 / y.shape[0]\n",
        "\n",
        "\n",
        "def data_iter(data, batch_size):\n",
        "    X, y = data\n",
        "    batches = [(X[i:i+batch_size],y[i:i+batch_size]) for i in range(0,X.shape[0],batch_size)]\n",
        "    random.shuffle(batches)\n",
        "    for batch in batches:\n",
        "        yield batch\n",
        "                \n",
        "        \n",
        "def glorot(in_dim, out_dim):\n",
        "    d = np.sqrt(6/(in_dim+out_dim))\n",
        "    return np.random.uniform(-d,d,(in_dim,out_dim))"
      ],
      "execution_count": 0,
      "outputs": []
    },
    {
      "metadata": {
        "id": "UONENIM-fV0l",
        "colab_type": "code",
        "colab": {}
      },
      "cell_type": "code",
      "source": [
        "INPUT_DIM = 784\n",
        "OUTPUT_DIM = 10\n",
        "\n",
        "class NN(object):\n",
        "    \n",
        "    \n",
        "    def __init__(self,hidden_dims=[666,666],n_hidden=2,init='Normal',activate='relu'):\n",
        "        self.dims = [INPUT_DIM,] + hidden_dims + [OUTPUT_DIM,]\n",
        "        self.weights = []\n",
        "        self.biases  = []\n",
        "        self.init = init\n",
        "        self.activate = activate\n",
        "        \n",
        "        self.initialize_weights()\n",
        "        \n",
        "        \n",
        "    def initialize_weights(self):\n",
        "        '''\n",
        "        init weights of all layers according to self.init\n",
        "        '''\n",
        "        init_method = None\n",
        "        if self.init == 'Zero':\n",
        "            init_method = lambda x, y: np.zeros((x,y))\n",
        "        elif self.init == 'Normal':\n",
        "            init_method = lambda x, y: np.random.randn(x,y)\n",
        "        elif self.init == 'Glorot':\n",
        "            init_method = glorot\n",
        "        else:\n",
        "            raise Exception('Choose right initialization method.')\n",
        "            \n",
        "        for (inputs, outputs) in zip(self.dims[:-1], self.dims[1:]):\n",
        "            self.weights.append(init_method(inputs, outputs))\n",
        "            self.biases.append(np.zeros(outputs))\n",
        "            \n",
        "            \n",
        "    def activation(self, inputs):\n",
        "        if self.activate == 'relu':\n",
        "            inputs[inputs < 0] = 0\n",
        "            return inputs\n",
        "        if self.activate == 'sigmoid':\n",
        "            return 1.0/(1.0+np.exp(-inputs))\n",
        "\n",
        "        \n",
        "    def loss(self, pred, labels):\n",
        "        '''\n",
        "        cross entropy loss\n",
        "        '''\n",
        "        ls = np.nan_to_num(np.log(pred+1e-8))\n",
        "        ls = - np.sum(labels * ls)\n",
        "        return ls / pred.shape[0]\n",
        "            \n",
        "        \n",
        "    def forward(self, inputs, labels):\n",
        "        a_k = None\n",
        "        h_k = inputs\n",
        "        a   = []\n",
        "        h   = [h_k]\n",
        "        for (W, b) in zip(self.weights[:-1], self.biases[:-1]):\n",
        "            a_k = np.dot(h_k, W) + b\n",
        "            h_k = self.activation(a_k)\n",
        "            a.append(a_k)\n",
        "            h.append(h_k)\n",
        "        \n",
        "        a_k = np.dot(h_k, self.weights[-1]) + self.biases[-1]\n",
        "        h_k = self.softmax(a_k)\n",
        "        a.append(a_k)\n",
        "        h.append(h_k)\n",
        "        \n",
        "        ls = self.loss(h_k, labels)\n",
        "        cache = (a, h)\n",
        "        \n",
        "        return h_k, ls, cache\n",
        "    \n",
        "    \n",
        "    def backward(self,cache,labels,lss):\n",
        "        \"\"\"\n",
        "        Input: cache: (as, hs)\n",
        "                    as: preactivate values\n",
        "                    hs: activated values\n",
        "                    lss: loss\n",
        "        output: grads: (grads_w, grads_b)\n",
        "        \"\"\"\n",
        "        as_ = cache[0]\n",
        "        hs_ = cache[1]\n",
        "        \n",
        "        nabla_w = [np.zeros_like(w) for w in self.weights]\n",
        "        nabla_b = [np.zeros_like(b) for b in self.biases]\n",
        "\n",
        "        # nabla l -> softmax -> pre-softmax\n",
        "        nabla_a = -(labels - hs_[-1])\n",
        "        nabla_b[-1] = np.sum(nabla_a, axis=0)\n",
        "        nabla_w[-1] = np.dot(hs_[-2].T, nabla_a)\n",
        "        # for each preactivate -> activation layer\n",
        "        for layer in range(2, len(self.dims)):\n",
        "            nabla_h = np.dot(nabla_a, self.weights[-layer+1].T)\n",
        "            nabla_a = nabla_h * self.activate_grad(as_[-layer])\n",
        "\n",
        "            nabla_b[-layer] = np.sum(nabla_a, axis=0)\n",
        "            nabla_w[-layer] = np.dot(hs_[-layer-1].T, nabla_a)\n",
        "\n",
        "        nabla_w = [x / labels.shape[0] for x in nabla_w]\n",
        "        nabla_b = [x / labels.shape[0] for x in nabla_b]\n",
        "        return (nabla_w,nabla_b)\n",
        "   \n",
        "        \n",
        "    def update(self,grads,lr):\n",
        "        grads_w, grads_b = grads\n",
        "        for i in range(len(self.weights)):\n",
        "            self.weights[i] -= lr * grads_w[i]\n",
        "            self.biases[i] -= lr * grads_b[i]\n",
        "            \n",
        "\n",
        "    def train(self, data, epochs, batch_size, lr, lambd=0.0, test_data=None):\n",
        "        l_acc = []\n",
        "        l_ls  = []\n",
        "        for ep in range(1, epochs+1):\n",
        "            for (batch_x, batch_y) in data_iter(data, batch_size):\n",
        "                y_pred, ls, cache = self.forward(batch_x, batch_y)\n",
        "                grads = self.backward(cache, batch_y, ls)\n",
        "                self.update(grads, lr)\n",
        "            if test_data:\n",
        "                acc, ls = self.test(test_data)\n",
        "                l_acc.append(acc)\n",
        "                l_ls.append(ls)\n",
        "                print('Epoch %i (acc, loss):(%.4f,%.4f)' % (ep, acc, ls))\n",
        "        return l_acc, l_ls\n",
        "\n",
        "                \n",
        "    def test(self, data):\n",
        "        x, y = data\n",
        "        outputs, ls, _ = self.forward(x, y)\n",
        "        return accuracy(outputs, y), ls\n",
        "        \n",
        "    \n",
        "    def activate_grad(self,inputs):\n",
        "        '''\n",
        "        derivatives of activation function\n",
        "        '''\n",
        "        if self.activate == 'relu':\n",
        "            inputs[inputs > 0] = 1\n",
        "            inputs[inputs < 0] = 0\n",
        "            return inputs\n",
        "        elif self.activate == 'sigmiod':\n",
        "            return self.activation(inputs) * (1 - self.activation(inputs))\n",
        "        \n",
        "        \n",
        "    def softmax(self,inputs):\n",
        "        inputs = inputs - np.max(inputs, axis=1).reshape(inputs.shape[0],1)\n",
        "        outputs = np.exp(inputs)\n",
        "        return outputs / (np.sum(outputs, axis=1).reshape(inputs.shape[0],1))\n",
        "        "
      ],
      "execution_count": 0,
      "outputs": []
    },
    {
      "metadata": {
        "id": "nhIq8JQMCIK2",
        "colab_type": "text"
      },
      "cell_type": "markdown",
      "source": [
        "## Initialization\n",
        "\n",
        "The results show that:\n",
        "\n",
        "1. Networks with zero initialization learn nothing. Becasuse corresponding weights, intermediate variables are also zeros, and will be used to compute gradients, most gradients will be also zero which causes the network learns nothing.\n",
        "\n",
        "2. Networks with normal initialization need smaller learning rate. If we use a large learning rate and the network was initialized to a bad point. Some of the predicted probabilites of the right classes will be close to 0, causing the cross entropy loss move to infinity.\n",
        "\n",
        "3. Networks with Glorot initialization are more stable when we use relatively large learning rate., and it has the lowest loss."
      ]
    },
    {
      "metadata": {
        "id": "3rZ6REJwva-1",
        "colab_type": "code",
        "outputId": "5e56150f-c071-4adb-e26d-4ee7540aba39",
        "colab": {
          "base_uri": "https://localhost:8080/",
          "height": 1138
        }
      },
      "cell_type": "code",
      "source": [
        "nn1 = NN(hidden_dims=[666,666],n_hidden=2,init='Zero')\n",
        "zero_acc, zero_ls = nn1.train((X_train,y_train), epochs=10, batch_size=200, lr=0.01, test_data=(X_train,y_train))\n",
        "\n",
        "nn2 = NN(hidden_dims=[666,666],n_hidden=2,init='Normal')\n",
        "normal_acc, normal_ls = nn2.train((X_train,y_train), epochs=10, batch_size=200, lr=0.001, test_data=(X_train,y_train))\n",
        "\n",
        "nn3 = NN(hidden_dims=[666,666],n_hidden=2,init='Glorot')\n",
        "glorot_acc, glorot_ls = nn3.train((X_train,y_train), epochs=10, batch_size=200, lr=0.01, test_data=(X_train,y_train))\n",
        "\n",
        "from pylab import rcParams\n",
        "rcParams['figure.figsize'] = 15, 10\n",
        "\n",
        "plt.xticks(np.arange(0, 11, step=1))\n",
        "plt.xlabel('Epoch', weight='bold')\n",
        "plt.ylabel('Average Loss on Training Set', weight='bold')\n",
        "plt.title('Empirical Risk - Training Set - MNIST - 3 Different Initialization Methods', weight='bold')\n",
        "\n",
        "plt.plot(np.arange(1, 11, step=1), normal_ls, label='Normal')\n",
        "plt.plot(np.arange(1, 11, step=1), glorot_ls, label='Glorot')\n",
        "plt.plot(np.arange(1, 11, step=1), zero_ls, label='Zero')\n",
        "plt.legend()\n",
        "plt.show()"
      ],
      "execution_count": 7,
      "outputs": [
        {
          "output_type": "stream",
          "text": [
            "Epoch 1 (acc, loss):(11.3560,2.3020)\n",
            "Epoch 2 (acc, loss):(11.3560,2.3016)\n",
            "Epoch 3 (acc, loss):(11.3560,2.3014)\n",
            "Epoch 4 (acc, loss):(11.3560,2.3012)\n",
            "Epoch 5 (acc, loss):(11.3560,2.3011)\n",
            "Epoch 6 (acc, loss):(11.3560,2.3011)\n",
            "Epoch 7 (acc, loss):(11.3560,2.3011)\n",
            "Epoch 8 (acc, loss):(11.3560,2.3010)\n",
            "Epoch 9 (acc, loss):(11.3560,2.3010)\n",
            "Epoch 10 (acc, loss):(11.3560,2.3010)\n",
            "Epoch 1 (acc, loss):(83.8740,2.9493)\n",
            "Epoch 2 (acc, loss):(87.0720,2.3608)\n",
            "Epoch 3 (acc, loss):(89.2460,1.9636)\n",
            "Epoch 4 (acc, loss):(90.0400,1.8148)\n",
            "Epoch 5 (acc, loss):(91.2540,1.5915)\n",
            "Epoch 6 (acc, loss):(91.9540,1.4617)\n",
            "Epoch 7 (acc, loss):(92.2340,1.4119)\n",
            "Epoch 8 (acc, loss):(93.0320,1.2603)\n",
            "Epoch 9 (acc, loss):(93.3600,1.2035)\n",
            "Epoch 10 (acc, loss):(93.9720,1.0917)\n",
            "Epoch 1 (acc, loss):(82.2040,0.8426)\n",
            "Epoch 2 (acc, loss):(87.0720,0.5245)\n",
            "Epoch 3 (acc, loss):(88.6760,0.4275)\n",
            "Epoch 4 (acc, loss):(89.6700,0.3789)\n",
            "Epoch 5 (acc, loss):(90.2620,0.3497)\n",
            "Epoch 6 (acc, loss):(90.8780,0.3282)\n",
            "Epoch 7 (acc, loss):(91.2200,0.3118)\n",
            "Epoch 8 (acc, loss):(91.7000,0.2971)\n",
            "Epoch 9 (acc, loss):(91.9020,0.2861)\n",
            "Epoch 10 (acc, loss):(92.1660,0.2781)\n"
          ],
          "name": "stdout"
        },
        {
          "output_type": "display_data",
          "data": {
            "image/png": "[encoded data removed]",
            "text/plain": [
              "<Figure size 1080x720 with 1 Axes>"
            ]
          },
          "metadata": {
            "tags": []
          }
        }
      ]
    },
    {
      "metadata": {
        "id": "53J5SNzMLKgY",
        "colab_type": "text"
      },
      "cell_type": "markdown",
      "source": [
        "## Parameter Search\n",
        "\n",
        "We achieved more than 97% accuracy on validation dataset by using below hyperparameters \n",
        "\n",
        "1. Architecture (dimensions) : 784 -> 666 -> 666 -> 10.\n",
        "2. parameters:  785\\*666+667\\*666+667\\*10 = 973,702 parameters.\n",
        "3. Nonlinearity : ReLU\n",
        "4. Learning rate : 0.1\n",
        "5. Batch size : 100\n",
        "6. Numpy random seed : 0\n",
        "7. Initialization : Glorot\n",
        "8. Epochs: 10"
      ]
    },
    {
      "metadata": {
        "id": "PKrVkSloLJn3",
        "colab_type": "code",
        "outputId": "c6e1e8ab-d7d3-452e-efca-c1505dd1d99b",
        "colab": {
          "base_uri": "https://localhost:8080/",
          "height": 190
        }
      },
      "cell_type": "code",
      "source": [
        "nn4 = NN(hidden_dims=[666,666],n_hidden=2,init='Glorot')\n",
        "best_acc, best_ls = nn4.train((X_train,y_train), epochs=10, batch_size=100, lr=0.1, test_data=(X_val,y_val))"
      ],
      "execution_count": 8,
      "outputs": [
        {
          "output_type": "stream",
          "text": [
            "Epoch 1 (acc, loss):(94.1400,0.2067)\n",
            "Epoch 2 (acc, loss):(96.0800,0.1436)\n",
            "Epoch 3 (acc, loss):(96.5400,0.1268)\n",
            "Epoch 4 (acc, loss):(96.8500,0.1083)\n",
            "Epoch 5 (acc, loss):(97.3300,0.0940)\n",
            "Epoch 6 (acc, loss):(97.3800,0.0893)\n",
            "Epoch 7 (acc, loss):(97.4700,0.0876)\n",
            "Epoch 8 (acc, loss):(97.7800,0.0775)\n",
            "Epoch 9 (acc, loss):(97.8800,0.0801)\n",
            "Epoch 10 (acc, loss):(97.5500,0.0879)\n"
          ],
          "name": "stdout"
        }
      ]
    },
    {
      "metadata": {
        "id": "hNdnr8gON0gq",
        "colab_type": "text"
      },
      "cell_type": "markdown",
      "source": [
        "## Validate Gradients using Finite Diﬀerence\n",
        "\n",
        "We tried 10 N values (1, 5, 10, 50, 1000, 5000, 100000, 500000).  The diagram show that, with N increasing ($\\epsilon$ decreasing), the difference between the finite difference gradient approximation and gradient obtained from back propagation is becoming smaller till 0, which means the finite difference gradient approximation is becoming more accurate, till close to the real gradient.\n",
        "\n",
        "We also fount sometimes the result was a horizon line, which means no differences at all. By checking the input data, we found the reason is that the corresponding pixel value of  that weight is zero, which means there is no gradients at these weights if we input that image."
      ]
    },
    {
      "metadata": {
        "id": "dLq72RpSNz7r",
        "colab_type": "code",
        "outputId": "f7a22a00-af16-433f-9dde-4e68017fdc9b",
        "colab": {
          "base_uri": "https://localhost:8080/",
          "height": 655
        }
      },
      "cell_type": "code",
      "source": [
        "nn5 = NN(hidden_dims=[666,666],n_hidden=2,init='Glorot')\n",
        "i_value = [0,1,3,5]\n",
        "k_value = [1,5]\n",
        "N_value = [k*10**i for i in i_value for k in k_value]\n",
        "print('N values used:', N_value)\n",
        "p = 10\n",
        "\n",
        "# obtain one data point, fix random.seed to reproduce the result.\n",
        "np.random.seed(100)\n",
        "data_number = np.random.randint(0,X_train.shape[0])\n",
        "X, y = X_train[data_number,:].reshape(1,-1), y_train[data_number,:].reshape(1,-1)\n",
        "\n",
        "# compute forward and backward prop and the gradient\n",
        "y_hat, ls, cache = nn5.forward(X, y)\n",
        "grad_W, grad_b = nn5.backward(cache, y, ls)\n",
        "# Use the second layer to validate gradient.\n",
        "grad_theta = grad_W[1][:p,0]\n",
        "\n",
        "res = []\n",
        "for N in N_value:\n",
        "    epsilon = 1 / N\n",
        "    grad_diff = np.zeros(p)\n",
        "    for i in range(p):\n",
        "        # compute L(+epsilon)\n",
        "        nn5.weights[1][i,0] += epsilon\n",
        "        _, L_plus, _ = nn5.forward(X,y)\n",
        "        # compute L(-epsilon)\n",
        "        nn5.weights[1][i,0] -= 2*epsilon\n",
        "        _, L_minus,_ = nn5.forward(X,y)\n",
        "        # recover weight\n",
        "        nn5.weights[1][i,0] += epsilon\n",
        "        # Finite Difference\n",
        "        grad_diff[i] = (L_plus/epsilon-L_minus/epsilon) / 2\n",
        "    res.append(np.max(np.abs(grad_theta - grad_diff)))\n",
        "    \n",
        "plt.xlabel('N', weight='bold')\n",
        "plt.ylabel('Target', weight='bold')\n",
        "plt.title('maximum difference between the true gradient and the ﬁnite difference gradient', weight='bold')\n",
        "plt.plot(np.arange(len(res)), res)    "
      ],
      "execution_count": 33,
      "outputs": [
        {
          "output_type": "stream",
          "text": [
            "N values used: [1, 5, 10, 50, 1000, 5000, 100000, 500000]\n"
          ],
          "name": "stdout"
        },
        {
          "output_type": "execute_result",
          "data": {
            "text/plain": [
              "[<matplotlib.lines.Line2D at 0x7f42e7917cc0>]"
            ]
          },
          "metadata": {
            "tags": []
          },
          "execution_count": 33
        },
        {
          "output_type": "display_data",
          "data": {
            "image/png": "[encoded data removed]",
            "text/plain": [
              "<Figure size 1080x720 with 1 Axes>"
            ]
          },
          "metadata": {
            "tags": []
          }
        }
      ]
    },
    {
      "metadata": {
        "id": "q_zlHQ9g-n33",
        "colab_type": "text"
      },
      "cell_type": "markdown",
      "source": [
        "where x=(0, 1, 2, 3, ,4 ,5, 6, 7) corresponds to N= (1, 5, 10, 50, 1000, 5000, 100000, 500000), respectively."
      ]
    }
  ]
}