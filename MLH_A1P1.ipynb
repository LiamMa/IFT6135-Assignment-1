{
 "cells": [
  {
   "cell_type": "code",
   "execution_count": 1,
   "metadata": {},
   "outputs": [],
   "source": [
    "import numpy as np\n",
    "import matplotlib\n",
    "np.random.seed(666)"
   ]
  },
  {
   "cell_type": "code",
   "execution_count": 2,
   "metadata": {},
   "outputs": [],
   "source": [
    "input_dim=784\n",
    "output_dim=10"
   ]
  },
  {
   "cell_type": "code",
   "execution_count": null,
   "metadata": {},
   "outputs": [],
   "source": [
    "class NN(object):\n",
    "    \n",
    "    def __init__(self,hidden_dims=(1024,2048),n_hidden=2,mode='train',datapath=None,model_path=None,initial=\"Glorot\"):\n",
    "        # datapath should be [data,label] where each row of data is a sample\n",
    "        np.random.seed(random_state)\n",
    "        \n",
    "#         self.data=datapath[0]\n",
    "#         self.label=datapath[1]\n",
    "        input_dim=.datapath[0][0].shape[0]\n",
    "        output_dim=np.unique(datapath[1]).reshape(-1,).shape[0]\n",
    "        self.dims=[input_dim]+list(hidden_dims)+[output_dim]\n",
    "        self.n_hiiden = n_hidden\n",
    "        self.initialize_weights()\n"
   ]
  },
  {
   "cell_type": "code",
   "execution_count": null,
   "metadata": {},
   "outputs": [],
   "source": [
    "def initialize_weights(self,n_hidden,dims,initial):\n",
    "# def initialize_weights(n_hidden,dims,initial):\n",
    "\n",
    "    # dim=[input_dim,hidden_dims,output_dim]\n",
    "    # weights not include the bias \n",
    "    \n",
    "    weights=[]\n",
    "    biases=[]\n",
    "    if len(dims)!=n_hidden+2:\n",
    "        raise ValueError(\"The length of dims does not match the num of hidden layer\") \n",
    "    if initial==\"Zero\":\n",
    "        for l in range(n_hidden+1):\n",
    "            weights.append(np.zeros([dims[l],dims[l+1]]))\n",
    "            bias.append(np.zeros([dims[l+1,]]))\n",
    "    elif initial==\"Normal\":\n",
    "        for l in range(n_hidden+1):\n",
    "            weights.append(np.random.normal(0,1,dims[l]*dims[l+1]).reshape([dims[l],dims[l+1]]))\n",
    "            bias.append(np.zeros([dims[l+1,]]))\n",
    "    elif initial=='Glorot':\n",
    "        for l in range(n_hidden+1):\n",
    "            d=np.sqrt(6/(dims[l]+dims[l+1]))\n",
    "            weights.append(np.random.uniform(-d,d,dims[l]*dims[l+1]).reshape([dims[l],dims[l+1]]))\n",
    "            bias.append(np.zeros([dims[l+1,]]))\n",
    "    self.weights=weights\n",
    "    self.biases=biases\n",
    "            \n",
    "\n",
    "            \n",
    "    "
   ]
  },
  {
   "cell_type": "code",
   "execution_count": null,
   "metadata": {},
   "outputs": [],
   "source": [
    "def forward(self,input,labels):\n",
    "    # here input is the data point\n",
    "    if np.shape(input)[1]!=self.dims[0]:\n",
    "        raise ValueError(\"the input data dim does not match the model setting\")\n",
    "    \n",
    "    for i in range(self.n_hidden+1):\n",
    "        output=np.dot(input,self.weights[i])\n",
    "        output=activation(output)\n",
    "        input=output\n",
    "    output=softmax(input)\n",
    "    return output\n",
    "    "
   ]
  },
  {
   "cell_type": "code",
   "execution_count": null,
   "metadata": {},
   "outputs": [],
   "source": [
    "def activation(self,input,act=\"ReLU\"):\n",
    "    if act==\"ReLU\":\n",
    "        return ReLU(input)\n",
    "    elif act==\"sigmoid\":\n",
    "        return sigmoid(input)\n",
    "    else:\n",
    "        raise ValueError(\"act should be the name of an activation function\")\n",
    "    "
   ]
  },
  {
   "cell_type": "code",
   "execution_count": null,
   "metadata": {},
   "outputs": [],
   "source": [
    "def loss(self,prediction,labels):\n",
    "    # cross-entropy\n",
    "    labels=labels.reshape(-1)\n",
    "    index=np.arange(label.shape[0])\n",
    "    label=np.zeros([labels.shape[0],self.dims[3]])\n",
    "    label[index,labels]=1\n",
    "    loss=np.sum(np.nan_to_num(-label*np.log(prediction)-(1-label)*np.log(1-prediction)))\n",
    "    return loss\n",
    "    "
   ]
  },
  {
   "cell_type": "code",
   "execution_count": null,
   "metadata": {},
   "outputs": [],
   "source": [
    "def softmax(self,input):\n",
    "    e = np.exp(float(input))\n",
    "    return e/np.sum(e)\n",
    "    \n",
    "    "
   ]
  },
  {
   "cell_type": "code",
   "execution_count": null,
   "metadata": {},
   "outputs": [],
   "source": [
    "def sigmoid(self,input):\n",
    "    return 1/(1+np.exp(-a))"
   ]
  },
  {
   "cell_type": "code",
   "execution_count": null,
   "metadata": {},
   "outputs": [],
   "source": [
    "def ReLU(self,input,leaky=0):\n",
    "    if leaky==0:\n",
    "        input=input.reshape(1,-1)\n",
    "        input=np.concatenate([input,np.zeros(input.shape)],axis=1)\n",
    "        return np.max(input,0)\n",
    "    else:\n",
    "        return input*[input>0]+input*[input<=0]*leaky\n",
    "        \n",
    "    "
   ]
  },
  {
   "cell_type": "code",
   "execution_count": null,
   "metadata": {},
   "outputs": [],
   "source": [
    "def backward(self,cache,labels,...):\n",
    "    .\n",
    "    ."
   ]
  },
  {
   "cell_type": "code",
   "execution_count": null,
   "metadata": {},
   "outputs": [],
   "source": [
    "def update(self,grads,..):\n",
    "    .\n",
    "    ."
   ]
  },
  {
   "cell_type": "code",
   "execution_count": null,
   "metadata": {},
   "outputs": [],
   "source": [
    "def train(self):\n",
    "    .\n",
    "    ."
   ]
  },
  {
   "cell_type": "code",
   "execution_count": null,
   "metadata": {},
   "outputs": [],
   "source": [
    "def test(self):\n",
    "    .\n",
    "    ."
   ]
  },
  {
   "cell_type": "code",
   "execution_count": null,
   "metadata": {},
   "outputs": [],
   "source": []
  }
 ],
 "metadata": {
  "kernelspec": {
   "display_name": "Python [conda env:pytorch]",
   "language": "python",
   "name": "conda-env-pytorch-py"
  },
  "language_info": {
   "codemirror_mode": {
    "name": "ipython",
    "version": 3
   },
   "file_extension": ".py",
   "mimetype": "text/x-python",
   "name": "python",
   "nbconvert_exporter": "python",
   "pygments_lexer": "ipython3",
   "version": "3.6.7"
  }
 },
 "nbformat": 4,
 "nbformat_minor": 2
}
