{
  "nbformat": 4,
  "nbformat_minor": 0,
  "metadata": {
    "colab": {
      "name": "A1_3_Jin.ipynb",
      "version": "0.3.2",
      "provenance": [],
      "collapsed_sections": []
    },
    "kernelspec": {
      "name": "python3",
      "display_name": "Python 3"
    }
  },
  "cells": [
    {
      "metadata": {
        "id": "t8vXB3fuk3ko",
        "colab_type": "code",
        "colab": {}
      },
      "cell_type": "code",
      "source": [
        "! pip install mxnet-cu92"
      ],
      "execution_count": 0,
      "outputs": []
    },
    {
      "metadata": {
        "id": "z7yPuUVEwMGd",
        "colab_type": "code",
        "colab": {}
      },
      "cell_type": "code",
      "source": [
        "import mxnet as mx\n",
        "from mxnet import autograd, nd, init, gluon\n",
        "from mxnet.gluon import nn, loss as gloss, data as gdata\n",
        "\n",
        "import os\n",
        "import shutil\n",
        "import time\n",
        "import numpy as np\n",
        "import pandas as pd\n",
        "import matplotlib.pyplot as plt\n",
        "import random\n",
        "import zipfile"
      ],
      "execution_count": 0,
      "outputs": []
    },
    {
      "metadata": {
        "id": "vk9K9HmXjiFm",
        "colab_type": "code",
        "colab": {
          "base_uri": "https://localhost:8080/",
          "height": 35
        },
        "outputId": "eb39fd75-53f0-4b52-be5b-e660e098bc19"
      },
      "cell_type": "code",
      "source": [
        "from google.colab import drive\n",
        "drive.mount('/content/gdrive')\n",
        "\n",
        "data_path = '/content/gdrive/My\\ Drive/Datasets/dogcat'\n",
        "base_path = '/content/dogcat'"
      ],
      "execution_count": 10,
      "outputs": [
        {
          "output_type": "stream",
          "text": [
            "Drive already mounted at /content/gdrive; to attempt to forcibly remount, call drive.mount(\"/content/gdrive\", force_remount=True).\n"
          ],
          "name": "stdout"
        }
      ]
    },
    {
      "metadata": {
        "id": "0YUeldTHkEtD",
        "colab_type": "code",
        "colab": {
          "base_uri": "https://localhost:8080/",
          "height": 35
        },
        "outputId": "45d996ea-d760-4468-9586-8d03cce36301"
      },
      "cell_type": "code",
      "source": [
        "! cp -r $data_path /content\n",
        "! ls /content/dogcat"
      ],
      "execution_count": 47,
      "outputs": [
        {
          "output_type": "stream",
          "text": [
            "sample_submission.csv  testset.zip  trainset.zip\n"
          ],
          "name": "stdout"
        }
      ]
    },
    {
      "metadata": {
        "id": "H_4IhW_6w69l",
        "colab_type": "code",
        "colab": {}
      },
      "cell_type": "code",
      "source": [
        "for f in ['trainset.zip', 'testset.zip']:\n",
        "    with zipfile.ZipFile(os.path.join(base_path, f)) as z:\n",
        "        z.extractall(base_path)"
      ],
      "execution_count": 0,
      "outputs": []
    },
    {
      "metadata": {
        "id": "RdxVwpqhlVGJ",
        "colab_type": "code",
        "colab": {
          "base_uri": "https://localhost:8080/",
          "height": 121
        },
        "outputId": "a3603391-265a-4516-de1e-9ad4221bb437"
      },
      "cell_type": "code",
      "source": [
        "base_path = '/content/dogcat'\n",
        "train_valid_path = 'trainset'\n",
        "test_path = 'testset'\n",
        "train_path = 'train'\n",
        "valid_path = 'valid'\n",
        "\n",
        "\n",
        "def delete_dir(path):\n",
        "    if os.path.exists(os.path.join(*path)):\n",
        "        shutil.rmtree(os.path.join(*path))\n",
        "        \n",
        "def create_dir(path):\n",
        "    if not os.path.exists(os.path.join(*path)):\n",
        "        os.makedirs(os.path.join(*path))\n",
        "\n",
        "def devide_train_valid(base_path, train_valid_path, train_path, valid_path,\n",
        "                       valid_ratio=0.2, labels=['Dog', 'Cat']):\n",
        "    delete_dir([base_path, train_path])\n",
        "    delete_dir([base_path, valid_path])\n",
        "        \n",
        "    all_files_by_label = [os.listdir(os.path.join(base_path, train_valid_path, label))\n",
        "                          for label in labels]\n",
        "    \n",
        "    count_train = {label:0 for label in labels}\n",
        "    count_valid = {label:0 for label in labels}\n",
        "    \n",
        "    for label, file_per_label in zip(labels, all_files_by_label):\n",
        "        print('Train&Valid set, %s: %s' % (label, len(file_per_label)))\n",
        "        create_dir([base_path, train_path, label])\n",
        "        create_dir([base_path, valid_path, label])\n",
        "        for f in file_per_label:\n",
        "            if count_train[label] < len(file_per_label) * (1 - valid_ratio):\n",
        "                shutil.copy(os.path.join(base_path, train_valid_path, label, f),\n",
        "                            os.path.join(base_path, train_path, label, f))\n",
        "                count_train[label] += 1\n",
        "            else:\n",
        "                shutil.copy(os.path.join(base_path, train_valid_path, label, f),\n",
        "                            os.path.join(base_path, valid_path, label, f))\n",
        "                count_valid[label] += 1\n",
        "        print('Train set, %s: %s' % (label, count_train[label]))\n",
        "        print('Valid set, %s: %s' % (label, count_valid[label]))\n",
        "                \n",
        "devide_train_valid(base_path, train_valid_path, train_path, valid_path)\n"
      ],
      "execution_count": 61,
      "outputs": [
        {
          "output_type": "stream",
          "text": [
            "Train&Valid set, Dog: 9999\n",
            "Train set, Dog: 8000\n",
            "Valid set, Dog: 1999\n",
            "Train&Valid set, Cat: 9999\n",
            "Train set, Cat: 8000\n",
            "Valid set, Cat: 1999\n"
          ],
          "name": "stdout"
        }
      ]
    },
    {
      "metadata": {
        "id": "XFhpuWnt4uoY",
        "colab_type": "code",
        "colab": {}
      },
      "cell_type": "code",
      "source": [
        "batch_size = 256"
      ],
      "execution_count": 0,
      "outputs": []
    },
    {
      "metadata": {
        "id": "SsDH1T9pwG3B",
        "colab_type": "code",
        "colab": {
          "base_uri": "https://localhost:8080/",
          "height": 35
        },
        "outputId": "48f5d6b8-6240-4dcc-9554-14520140bac8"
      },
      "cell_type": "code",
      "source": [
        "aug_train = gdata.vision.transforms.Compose([\n",
        "#     gdata.vision.transforms.RandomResizedCrop(, scale=(0.75, 1),\n",
        "#                                               ratio=(3.0/4.0, 4.0/3.0)),\n",
        "    gdata.vision.transforms.RandomFlipLeftRight(),\n",
        "    gdata.vision.transforms.RandomColorJitter(brightness=0.4, \n",
        "                                              contrast=0.4, saturation=0.4),\n",
        "    gdata.vision.transforms.RandomLighting(0.1),\n",
        "    gdata.vision.transforms.ToTensor(),\n",
        "    gdata.vision.transforms.Normalize([0.485, 0.456, 0.406], \n",
        "                                      [0.229, 0.224, 0.225])\n",
        "    \n",
        "])\n",
        "\n",
        "aug_test = gdata.vision.transforms.Compose([\n",
        "    gdata.vision.transforms.ToTensor(),\n",
        "    gdata.vision.transforms.Normalize([0.485, 0.456, 0.406], \n",
        "                                      [0.229, 0.224, 0.225])\n",
        "])\n",
        "\n",
        "train_data = gdata.vision.ImageFolderDataset(\n",
        "    os.path.join(base_path, train_path), flag=1)\n",
        "valid_data = gdata.vision.ImageFolderDataset(\n",
        "    os.path.join(base_path, valid_path), flag=1)\n",
        "train_valid_data = gdata.vision.ImageFolderDataset(\n",
        "    os.path.join(base_path, train_valid_path), flag=1)\n",
        "test_data = gdata.vision.ImageFolderDataset(\n",
        "    os.path.join(base_path, test_path), flag=1)\n",
        "\n",
        "train_iter = gdata.DataLoader(train_data.transform_first(aug_train), batch_size,\n",
        "                              shuffle=True, last_batch='keep')\n",
        "valid_iter = gdata.DataLoader(valid_data.transform_first(aug_test), batch_size,\n",
        "                              shuffle=True, last_batch='keep')\n",
        "train_valid_iter = gdata.DataLoader(train_valid_data.transform_first(aug_train), batch_size,\n",
        "                              shuffle=True, last_batch='keep')\n",
        "test_iter  = gdata.DataLoader(test_data.transform_first(aug_test), batch_size,\n",
        "                              shuffle=False, last_batch='keep')"
      ],
      "execution_count": 68,
      "outputs": [
        {
          "output_type": "stream",
          "text": [
            "/usr/local/lib/python3.6/dist-packages/ipykernel_launcher.py:25: UserWarning: Ignoring /content/dogcat/trainset/.DS_Store, which is not a directory.\n"
          ],
          "name": "stderr"
        }
      ]
    },
    {
      "metadata": {
        "id": "a75HloiA4jCB",
        "colab_type": "code",
        "colab": {}
      },
      "cell_type": "code",
      "source": [
        "for X, y in valid_iter:\n",
        "    aa, bb = X, y\n",
        "    break"
      ],
      "execution_count": 0,
      "outputs": []
    },
    {
      "metadata": {
        "id": "3aD2mikE5Hm9",
        "colab_type": "code",
        "colab": {
          "base_uri": "https://localhost:8080/",
          "height": 173
        },
        "outputId": "5bd5a522-f4b0-4ed6-9fc0-da88e86fdc63"
      },
      "cell_type": "code",
      "source": [
        "bb"
      ],
      "execution_count": 80,
      "outputs": [
        {
          "output_type": "execute_result",
          "data": {
            "text/plain": [
              "\n",
              "[0 1 0 0 1 1 1 0 0 0 0 1 1 1 0 1 1 0 1 1 0 0 0 0 1 1 1 1 0 1 1 1 1 0 1 1 1\n",
              " 0 1 0 0 1 0 0 0 1 1 0 1 1 0 0 0 0 1 1 0 0 0 0 0 0 1 0 0 1 0 0 1 0 1 1 0 1\n",
              " 0 0 0 0 0 1 1 0 0 1 1 0 1 1 0 1 0 0 0 0 0 1 1 1 1 1 1 0 0 0 1 0 1 1 0 1 0\n",
              " 1 0 1 0 0 1 0 0 0 1 1 0 0 0 0 1 1 0 0 1 1 1 1 1 0 1 0 0 1 1 1 0 0 1 0 0 1\n",
              " 0 0 1 1 1 1 1 0 1 1 0 1 1 1 1 0 1 1 0 0 0 0 0 0 1 0 0 1 0 0 0 1 0 1 0 0 0\n",
              " 1 1 1 1 1 1 1 1 0 0 0 1 0 1 1 0 0 1 1 1 0 0 0 1 0 1 1 1 1 1 0 1 0 1 1 1 1\n",
              " 0 0 0 1 1 0 1 0 0 0 1 1 1 0 1 1 0 0 0 0 1 1 0 1 1 0 1 1 1 0 1 1 0 1]\n",
              "<NDArray 256 @cpu(0)>"
            ]
          },
          "metadata": {
            "tags": []
          },
          "execution_count": 80
        }
      ]
    },
    {
      "metadata": {
        "id": "uOjZCrG95uhY",
        "colab_type": "text"
      },
      "cell_type": "markdown",
      "source": [
        "## Define ResNet"
      ]
    },
    {
      "metadata": {
        "id": "jFHRB3HH5IR5",
        "colab_type": "code",
        "colab": {}
      },
      "cell_type": "code",
      "source": [
        "class ResBlock(nn.HybridBlock):\n",
        "    def __init__(self, n_channels, strides=1, nin=False):\n",
        "        super(ResBlock, self).__init__()\n",
        "        \n",
        "        self.conv1 = nn.Conv2D(n_channels, kernel_size=3, padding=1, strides=strides)\n",
        "        self.conv2 = nn.Conv2D(n_channels, kernel_size=3, padding=2, strides=strides)\n",
        "        \n",
        "        self.nin   = None\n",
        "        if nin:\n",
        "            self.nin = nn.Conv2D(n_channels, kernel_size=1, strides=strides)\n",
        "            \n",
        "    def hybride_forward(self, F, X):\n",
        "        res = F.relu(self.conv1(X))\n",
        "        res = self.conv2(res)\n",
        "        \n",
        "        if self.nin:\n",
        "            X = self.nin(X)\n",
        "            \n",
        "        return F.relu(res + X)"
      ],
      "execution_count": 0,
      "outputs": []
    },
    {
      "metadata": {
        "id": "gQj4IuPO7VWX",
        "colab_type": "code",
        "colab": {}
      },
      "cell_type": "code",
      "source": [
        "def multiple_block(n_channels, n_blocks, nin=False):\n",
        "    net = nn.HybridSequential()\n",
        "    \n",
        "    if nin:\n",
        "        net.add(ResBlock(n_channels, 2, True))\n",
        "        n_blcoks -= 1\n",
        "    \n",
        "    for i in range(n_blocks):\n",
        "        net.add(ResBlock(n_channels))\n",
        "        \n",
        "    return net\n",
        "\n",
        "class ResNet18(nn.HybridBlock):\n",
        "    \n",
        "    def __init"
      ],
      "execution_count": 0,
      "outputs": []
    }
  ]
}