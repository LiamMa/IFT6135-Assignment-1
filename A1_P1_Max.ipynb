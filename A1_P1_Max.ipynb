{
 "cells": [
  {
   "cell_type": "markdown",
   "metadata": {
    "colab_type": "text",
    "id": "NBVBGiqBGaGV"
   },
   "source": [
    "# Setup"
   ]
  },
  {
   "cell_type": "code",
   "execution_count": 1,
   "metadata": {
    "colab": {
     "base_uri": "https://localhost:8080/",
     "height": 55
    },
    "colab_type": "code",
    "executionInfo": {
     "elapsed": 37206,
     "status": "ok",
     "timestamp": 1548171525224,
     "user": {
      "displayName": "Maximilien Le Clei",
      "photoUrl": "https://lh4.googleusercontent.com/-MWdkEHlJfJ8/AAAAAAAAAAI/AAAAAAAAALk/iuE1yhmpMCI/s64/photo.jpg",
      "userId": "17481473454263177289"
     },
     "user_tz": 300
    },
    "id": "1ZmGTwN2Fdvn",
    "outputId": "59b460fb-f3e4-4b18-c60b-712836f8dc99"
   },
   "outputs": [
    {
     "name": "stdout",
     "output_type": "stream",
     "text": [
      "tcmalloc: large alloc 1073750016 bytes == 0x58812000 @  0x7f3bad2c22a4 0x591a07 0x5b5d56 0x502e9a 0x506859 0x502209 0x502f3d 0x506859 0x504c28 0x502540 0x502f3d 0x506859 0x504c28 0x502540 0x502f3d 0x506859 0x504c28 0x502540 0x502f3d 0x507641 0x502209 0x502f3d 0x506859 0x504c28 0x502540 0x502f3d 0x507641 0x504c28 0x502540 0x502f3d 0x507641\n"
     ]
    }
   ],
   "source": [
    "# For Google Collab\n",
    "\n",
    "# http://pytorch.org/\n",
    "from os.path import exists\n",
    "from wheel.pep425tags import get_abbr_impl, get_impl_ver, get_abi_tag\n",
    "platform = '{}{}-{}'.format(get_abbr_impl(), get_impl_ver(), get_abi_tag())\n",
    "cuda_output = !ldconfig -p|grep cudart.so|sed -e 's/.*\\.\\([0-9]*\\)\\.\\([0-9]*\\)$/cu\\1\\2/'\n",
    "accelerator = cuda_output[0] if exists('/dev/nvidia0') else 'cpu'\n",
    "\n",
    "!pip install -q http://download.pytorch.org/whl/{accelerator}/torch-0.4.1-{platform}-linux_x86_64.whl torchvision"
   ]
  },
  {
   "cell_type": "code",
   "execution_count": 2,
   "metadata": {
    "colab": {
     "base_uri": "https://localhost:8080/",
     "height": 128
    },
    "colab_type": "code",
    "executionInfo": {
     "elapsed": 54319,
     "status": "ok",
     "timestamp": 1548171542554,
     "user": {
      "displayName": "Maximilien Le Clei",
      "photoUrl": "https://lh4.googleusercontent.com/-MWdkEHlJfJ8/AAAAAAAAAAI/AAAAAAAAALk/iuE1yhmpMCI/s64/photo.jpg",
      "userId": "17481473454263177289"
     },
     "user_tz": 300
    },
    "id": "aezmD0iyFhbl",
    "outputId": "bf2ab09a-163f-4545-c437-8105941cae2a"
   },
   "outputs": [
    {
     "name": "stdout",
     "output_type": "stream",
     "text": [
      "Go to this URL in a browser: https://accounts.google.com/o/oauth2/auth?client_id=947318989803-6bn6qk8qdgf4n4g3pfee6491hc0brc4i.apps.googleusercontent.com&redirect_uri=urn%3Aietf%3Awg%3Aoauth%3A2.0%3Aoob&scope=email%20https%3A%2F%2Fwww.googleapis.com%2Fauth%2Fdocs.test%20https%3A%2F%2Fwww.googleapis.com%2Fauth%2Fdrive%20https%3A%2F%2Fwww.googleapis.com%2Fauth%2Fdrive.photos.readonly%20https%3A%2F%2Fwww.googleapis.com%2Fauth%2Fpeopleapi.readonly&response_type=code\n",
      "\n",
      "Enter your authorization code:\n",
      "··········\n",
      "Mounted at /content/gdrive\n"
     ]
    }
   ],
   "source": [
    "from google.colab import drive\n",
    "drive.mount('/content/gdrive')"
   ]
  },
  {
   "cell_type": "code",
   "execution_count": 0,
   "metadata": {
    "colab": {},
    "colab_type": "code",
    "id": "f8v_2HS_FWok"
   },
   "outputs": [],
   "source": [
    "import numpy as np\n",
    "import matplotlib.pyplot as plt"
   ]
  },
  {
   "cell_type": "code",
   "execution_count": 0,
   "metadata": {
    "colab": {},
    "colab_type": "code",
    "id": "eJGlLnz6FWon"
   },
   "outputs": [],
   "source": [
    "def one_hot(old_y, m):\n",
    "    \n",
    "    n = len(old_y)\n",
    "    \n",
    "    y = np.zeros((n, m))\n",
    "    \n",
    "    y[np.arange(n), old_y] = 1\n",
    "    \n",
    "    return y"
   ]
  },
  {
   "cell_type": "code",
   "execution_count": 0,
   "metadata": {
    "colab": {},
    "colab_type": "code",
    "id": "fyyXtznUFl31"
   },
   "outputs": [],
   "source": [
    "# ~~ MNIST dataset ~~\n",
    "\n",
    "X_train = np.load('/content/gdrive/My Drive/Datasets/MNIST/x_train.npy')\n",
    "y_train = one_hot(np.load('/content/gdrive/My Drive/Datasets/MNIST/y_train.npy'), 10)\n",
    "\n",
    "X_val = np.load('/content/gdrive/My Drive/Datasets/MNIST/x_val.npy')\n",
    "y_val = one_hot(np.load('/content/gdrive/My Drive/Datasets/MNIST/y_val.npy'), 10)\n",
    "\n",
    "X_test = np.load('/content/gdrive/My Drive/Datasets/MNIST/x_test.npy')\n",
    "y_test = one_hot(np.load('/content/gdrive/My Drive/Datasets/MNIST/y_test.npy'), 10)"
   ]
  },
  {
   "cell_type": "markdown",
   "metadata": {
    "colab_type": "text",
    "id": "L7f4RiOeFWoo"
   },
   "source": [
    "# Model"
   ]
  },
  {
   "cell_type": "code",
   "execution_count": 0,
   "metadata": {
    "colab": {},
    "colab_type": "code",
    "id": "d0DOsVFLFWoy"
   },
   "outputs": [],
   "source": [
    "class NN:\n",
    "    \n",
    "    # ----- Initializations ----- #\n",
    "    \n",
    "    def initialize_weights(self, n_hidden, dims, initialization_scheme):\n",
    "    \n",
    "        # Zero    \n",
    "        if initialization_scheme == 'Zero':\n",
    "            \n",
    "            for i in range(n_hidden + 1):\n",
    "            \n",
    "                # Weights set to 0\n",
    "            \n",
    "                self.W.append( np.zeros(( dims[i+1], dims[i] )) )\n",
    "        \n",
    "                # Biases set to 0\n",
    "            \n",
    "                self.b.append( np.zeros( dims[i+1] ) )\n",
    "        \n",
    "        # Normal        \n",
    "        elif initialization_scheme == 'Normal':\n",
    "            \n",
    "            for i in range(n_hidden + 1):\n",
    "            \n",
    "                # Weights sampled from N(0,1)\n",
    "            \n",
    "                self.W.append( np.random.randn( dims[i+1], dims[i] ) )\n",
    "        \n",
    "                # Biases set to 0\n",
    "            \n",
    "                self.b.append( np.zeros( dims[i+1] ) )\n",
    "        \n",
    "        # Glorot        \n",
    "        else: #initialization_scheme == 'Glorot'\n",
    "            \n",
    "            for i in range(n_hidden + 1):            \n",
    "            \n",
    "                # Weights sampled from U(-d^l, d^l), d^l = sqrt( 6 / h^(l-1) + h^l )\n",
    "            \n",
    "                d = np.sqrt( 6 / (dims[i] + dims[i+1]) )\n",
    "                self.W.append( np.random.uniform( -d, d, (dims[i+1], dims[i]) ) )\n",
    "        \n",
    "                # Biases ~ 0\n",
    "            \n",
    "                self.b.append( np.zeros(dims[i+1]) )\n",
    "    \n",
    "    \n",
    "    # ----- ReLU activation ----- #\n",
    "    \n",
    "    def activation(self, inputs):\n",
    "        \n",
    "        zeros = np.zeros_like(inputs)\n",
    "        \n",
    "        return np.maximum(zeros, inputs)\n",
    "    \n",
    "    \n",
    "    # ----- Softmax ----- #\n",
    "    \n",
    "    def softmax(self, inputs):\n",
    "        \n",
    "        # Numerically stable softmax\n",
    "        \n",
    "        b = inputs.max()\n",
    "        \n",
    "        return np.exp(inputs - b) / np.exp(inputs - b).sum()\n",
    "    \n",
    "        \n",
    "    # ----- Update weights ----- #\n",
    "    \n",
    "    def update(self, grads, eta):\n",
    "        \n",
    "        grad_W, grad_b = grads\n",
    "        \n",
    "        for l in range(self.n_hidden + 1):\n",
    "                    \n",
    "            self.W[l] -= eta * grad_W[l]\n",
    "            self.b[l] -= eta * grad_b[l]\n",
    "        \n",
    "    # ----- Constructor ----- #\n",
    "        \n",
    "    def __init__(self, hidden_dims, n_hidden, initialization_scheme):\n",
    "        \n",
    "        dims = [784] + hidden_dims + [10]\n",
    "        \n",
    "        self.W = []\n",
    "        self.b = []\n",
    "        \n",
    "        self.n_hidden = n_hidden\n",
    "        \n",
    "        self.initialize_weights(n_hidden, dims, initialization_scheme)\n",
    "    \n",
    "    # ----- Train ----- #\n",
    "    \n",
    "    def train(self, X, y, epochs, eta):\n",
    "            \n",
    "        n = len(X)\n",
    "            \n",
    "        # Stochastic Gradient Descent\n",
    "            \n",
    "        for epoch in range(epochs):\n",
    "                \n",
    "            empirical_risk = 0\n",
    "            accuracy = 0\n",
    "                \n",
    "            for i in range(n):\n",
    "                \n",
    "                # Forward pass\n",
    "                self.forward(X[i], y[i])\n",
    "                \n",
    "                # Backward pass\n",
    "                    \n",
    "                grads = self.backward(X[i], y[i])\n",
    "                \n",
    "                self.update(grads, eta)\n",
    "                \n",
    "                if i % 5000 == 0:\n",
    "                    print(i / 500, '%')\n",
    "                    print( self.test(X, y) )\n",
    "            \n",
    "            print('Epoch', epoch+1)\n",
    "            print('Empirical risk', empirical_risk)\n",
    "            print('Accuracy', accuracy, '%')\n",
    "                       \n",
    "    # ----- Cross Entropy Loss ----- #\n",
    "    \n",
    "    def loss(self, prediction, label):\n",
    "        \n",
    "        L_x = - np.log(prediction + 0.00001) # To avoid log(0)\n",
    "        \n",
    "        return np.sum(L_x * label)\n",
    "        \n",
    "    # ----- Test ----- #\n",
    "    \n",
    "    def test(self, X, y):\n",
    "        \n",
    "        n = len(X)\n",
    "        \n",
    "        correct_predictions = 0\n",
    "        total_loss = 0\n",
    "        \n",
    "        for i in range(n):\n",
    "            \n",
    "            y_hat, loss = self.forward(X[i], y[i])\n",
    "            \n",
    "            correct_predictions += int(np.argmax(y[i]) == y_hat)\n",
    "            total_loss += loss\n",
    "            \n",
    "        accuracy = (correct_predictions / n) * 100\n",
    "        empirical_risk = total_loss / n\n",
    "        \n",
    "        return accuracy, empirical_risk\n",
    "        \n",
    "    # ----- Forward Propagation ----- #\n",
    "    \n",
    "    def forward(self, X, y):\n",
    "    \n",
    "        n = len(X)\n",
    "    \n",
    "        self.a = [X]\n",
    "    \n",
    "        self.h = []\n",
    "    \n",
    "        for i in range(self.n_hidden):\n",
    "            \n",
    "            self.h.append( np.matmul(self.a[i], self.W[i].T) + self.b[i] )\n",
    "            \n",
    "            self.a.append( self.activation(self.h[i])  )\n",
    "            \n",
    "        self.h_output = np.matmul(self.a[-1], self.W[-1].T) + self.b[-1]\n",
    "        \n",
    "        self.a_output = self.softmax(self.h_output)\n",
    "        \n",
    "        y_hat = np.argmax(self.a_output)\n",
    "        \n",
    "        return y_hat, self.loss(self.a_output, y)\n",
    "    \n",
    "    \n",
    "    # ----- Backward Propagation ----- #\n",
    "    \n",
    "    def backward(self, X, y):\n",
    "        \n",
    "        # Set up list storing gradients\n",
    "\n",
    "        grad_W = []\n",
    "        grad_b = []\n",
    "\n",
    "        for i in range(self.n_hidden + 1):\n",
    "            \n",
    "            grad_W.append(None)\n",
    "            grad_b.append(None)\n",
    "            \n",
    "        for i in range(self.n_hidden, -1, -1):\n",
    "            \n",
    "            # Softmax\n",
    "            if i == self.n_hidden:\n",
    "                grad_h = np.copy(self.a_output)\n",
    "                grad_h -= y\n",
    "            \n",
    "            # ReLU\n",
    "            else:\n",
    "                grad_h = grad_a * ( (self.h[i] > 0) * 1 )\n",
    "            \n",
    "            grad_W[i] = np.outer(grad_h, self.a[i])\n",
    "            \n",
    "            grad_b[i] = np.sum(grad_h, axis=0)\n",
    "            \n",
    "            grad_a = np.matmul(grad_h, self.W[i])\n",
    "        \n",
    "        return (grad_W, grad_b)"
   ]
  },
  {
   "cell_type": "code",
   "execution_count": 128,
   "metadata": {
    "colab": {
     "base_uri": "https://localhost:8080/",
     "height": 953
    },
    "colab_type": "code",
    "executionInfo": {
     "elapsed": 664500,
     "status": "error",
     "timestamp": 1548180930651,
     "user": {
      "displayName": "Maximilien Le Clei",
      "photoUrl": "https://lh4.googleusercontent.com/-MWdkEHlJfJ8/AAAAAAAAAAI/AAAAAAAAALk/iuE1yhmpMCI/s64/photo.jpg",
      "userId": "17481473454263177289"
     },
     "user_tz": 300
    },
    "id": "oM0s8ZnXFWo0",
    "outputId": "6178120d-9a72-420b-dfbd-cccb2f1adc5e",
    "scrolled": false
   },
   "outputs": [
    {
     "name": "stdout",
     "output_type": "stream",
     "text": [
      "0.0 %\n",
      "(9.017999999999999, 2.3756848987413455)\n",
      "10.0 %\n",
      "(90.056, 0.3253343502915492)\n",
      "20.0 %\n",
      "(93.074, 0.22763789574673704)\n",
      "30.0 %\n",
      "(93.65, 0.20543586034756267)\n",
      "40.0 %\n",
      "(95.018, 0.16604558423965657)\n",
      "50.0 %\n",
      "(94.192, 0.1864998380342239)\n",
      "60.0 %\n",
      "(95.062, 0.15894003348533656)\n",
      "70.0 %\n",
      "(96.908, 0.103701639289533)\n",
      "80.0 %\n",
      "(96.136, 0.12289095760663359)\n",
      "90.0 %\n",
      "(96.426, 0.1115924255981566)\n",
      "Epoch 1\n",
      "Empirical risk 0\n",
      "Accuracy 0 %\n",
      "0.0 %\n",
      "(96.452, 0.11303513065647999)\n",
      "10.0 %\n",
      "(96.648, 0.10906568751836086)\n"
     ]
    },
    {
     "ename": "KeyboardInterrupt",
     "evalue": "ignored",
     "output_type": "error",
     "traceback": [
      "\u001b[0;31m---------------------------------------------------------------------------\u001b[0m",
      "\u001b[0;31mKeyboardInterrupt\u001b[0m                         Traceback (most recent call last)",
      "\u001b[0;32m<ipython-input-128-f99c25257cda>\u001b[0m in \u001b[0;36m<module>\u001b[0;34m()\u001b[0m\n\u001b[1;32m      1\u001b[0m \u001b[0mmodel\u001b[0m \u001b[0;34m=\u001b[0m \u001b[0mNN\u001b[0m\u001b[0;34m(\u001b[0m\u001b[0mhidden_dims\u001b[0m\u001b[0;34m=\u001b[0m\u001b[0;34m[\u001b[0m\u001b[0;36m666\u001b[0m\u001b[0;34m,\u001b[0m \u001b[0;36m666\u001b[0m\u001b[0;34m]\u001b[0m\u001b[0;34m,\u001b[0m \u001b[0mn_hidden\u001b[0m\u001b[0;34m=\u001b[0m\u001b[0;36m2\u001b[0m\u001b[0;34m,\u001b[0m \u001b[0minitialization_scheme\u001b[0m\u001b[0;34m=\u001b[0m\u001b[0;34m'Glorot'\u001b[0m\u001b[0;34m)\u001b[0m\u001b[0;34m\u001b[0m\u001b[0;34m\u001b[0m\u001b[0m\n\u001b[1;32m      2\u001b[0m \u001b[0;31m#print(model.forward(X_train[0], y_train[0]))\u001b[0m\u001b[0;34m\u001b[0m\u001b[0;34m\u001b[0m\u001b[0;34m\u001b[0m\u001b[0m\n\u001b[0;32m----> 3\u001b[0;31m \u001b[0mmodel\u001b[0m\u001b[0;34m.\u001b[0m\u001b[0mtrain\u001b[0m\u001b[0;34m(\u001b[0m\u001b[0mX_train\u001b[0m\u001b[0;34m,\u001b[0m \u001b[0my_train\u001b[0m\u001b[0;34m,\u001b[0m \u001b[0;36m10\u001b[0m\u001b[0;34m,\u001b[0m \u001b[0;36m0.01\u001b[0m\u001b[0;34m)\u001b[0m\u001b[0;34m\u001b[0m\u001b[0;34m\u001b[0m\u001b[0m\n\u001b[0m",
      "\u001b[0;32m<ipython-input-127-3cdb48ac9f1f>\u001b[0m in \u001b[0;36mtrain\u001b[0;34m(self, X, y, epochs, eta)\u001b[0m\n\u001b[1;32m    112\u001b[0m                 \u001b[0mgrads\u001b[0m \u001b[0;34m=\u001b[0m \u001b[0mself\u001b[0m\u001b[0;34m.\u001b[0m\u001b[0mbackward\u001b[0m\u001b[0;34m(\u001b[0m\u001b[0mX\u001b[0m\u001b[0;34m[\u001b[0m\u001b[0mi\u001b[0m\u001b[0;34m]\u001b[0m\u001b[0;34m,\u001b[0m \u001b[0my\u001b[0m\u001b[0;34m[\u001b[0m\u001b[0mi\u001b[0m\u001b[0;34m]\u001b[0m\u001b[0;34m)\u001b[0m\u001b[0;34m\u001b[0m\u001b[0;34m\u001b[0m\u001b[0m\n\u001b[1;32m    113\u001b[0m \u001b[0;34m\u001b[0m\u001b[0m\n\u001b[0;32m--> 114\u001b[0;31m                 \u001b[0mself\u001b[0m\u001b[0;34m.\u001b[0m\u001b[0mupdate\u001b[0m\u001b[0;34m(\u001b[0m\u001b[0mgrads\u001b[0m\u001b[0;34m,\u001b[0m \u001b[0meta\u001b[0m\u001b[0;34m)\u001b[0m\u001b[0;34m\u001b[0m\u001b[0;34m\u001b[0m\u001b[0m\n\u001b[0m\u001b[1;32m    115\u001b[0m \u001b[0;34m\u001b[0m\u001b[0m\n\u001b[1;32m    116\u001b[0m                 \u001b[0;32mif\u001b[0m \u001b[0mi\u001b[0m \u001b[0;34m%\u001b[0m \u001b[0;36m5000\u001b[0m \u001b[0;34m==\u001b[0m \u001b[0;36m0\u001b[0m\u001b[0;34m:\u001b[0m\u001b[0;34m\u001b[0m\u001b[0;34m\u001b[0m\u001b[0m\n",
      "\u001b[0;32m<ipython-input-127-3cdb48ac9f1f>\u001b[0m in \u001b[0;36mupdate\u001b[0;34m(self, grads, eta)\u001b[0m\n\u001b[1;32m     74\u001b[0m         \u001b[0;32mfor\u001b[0m \u001b[0ml\u001b[0m \u001b[0;32min\u001b[0m \u001b[0mrange\u001b[0m\u001b[0;34m(\u001b[0m\u001b[0mself\u001b[0m\u001b[0;34m.\u001b[0m\u001b[0mn_hidden\u001b[0m \u001b[0;34m+\u001b[0m \u001b[0;36m1\u001b[0m\u001b[0;34m)\u001b[0m\u001b[0;34m:\u001b[0m\u001b[0;34m\u001b[0m\u001b[0;34m\u001b[0m\u001b[0m\n\u001b[1;32m     75\u001b[0m \u001b[0;34m\u001b[0m\u001b[0m\n\u001b[0;32m---> 76\u001b[0;31m             \u001b[0mself\u001b[0m\u001b[0;34m.\u001b[0m\u001b[0mW\u001b[0m\u001b[0;34m[\u001b[0m\u001b[0ml\u001b[0m\u001b[0;34m]\u001b[0m \u001b[0;34m-=\u001b[0m \u001b[0meta\u001b[0m \u001b[0;34m*\u001b[0m \u001b[0mgrad_W\u001b[0m\u001b[0;34m[\u001b[0m\u001b[0ml\u001b[0m\u001b[0;34m]\u001b[0m\u001b[0;34m\u001b[0m\u001b[0;34m\u001b[0m\u001b[0m\n\u001b[0m\u001b[1;32m     77\u001b[0m             \u001b[0mself\u001b[0m\u001b[0;34m.\u001b[0m\u001b[0mb\u001b[0m\u001b[0;34m[\u001b[0m\u001b[0ml\u001b[0m\u001b[0;34m]\u001b[0m \u001b[0;34m-=\u001b[0m \u001b[0meta\u001b[0m \u001b[0;34m*\u001b[0m \u001b[0mgrad_b\u001b[0m\u001b[0;34m[\u001b[0m\u001b[0ml\u001b[0m\u001b[0;34m]\u001b[0m\u001b[0;34m\u001b[0m\u001b[0;34m\u001b[0m\u001b[0m\n\u001b[1;32m     78\u001b[0m \u001b[0;34m\u001b[0m\u001b[0m\n",
      "\u001b[0;31mKeyboardInterrupt\u001b[0m: "
     ]
    }
   ],
   "source": [
    "model = NN(hidden_dims=[666, 666], n_hidden=2, initialization_scheme='Glorot')\n",
    "#print(model.forward(X_train[0], y_train[0]))\n",
    "model.train(X_train, y_train, 10, 0.01)\n"
   ]
  },
  {
   "cell_type": "code",
   "execution_count": 0,
   "metadata": {
    "colab": {},
    "colab_type": "code",
    "id": "d8gXGeRcsAWe"
   },
   "outputs": [],
   "source": []
  }
 ],
 "metadata": {
  "accelerator": "GPU",
  "colab": {
   "name": "A1_P1_Max.ipynb",
   "provenance": [],
   "version": "0.3.2"
  },
  "kernelspec": {
   "display_name": "Python [default]",
   "language": "python",
   "name": "python3"
  },
  "language_info": {
   "codemirror_mode": {
    "name": "ipython",
    "version": 3
   },
   "file_extension": ".py",
   "mimetype": "text/x-python",
   "name": "python",
   "nbconvert_exporter": "python",
   "pygments_lexer": "ipython3",
   "version": "3.6.6"
  }
 },
 "nbformat": 4,
 "nbformat_minor": 1
}
